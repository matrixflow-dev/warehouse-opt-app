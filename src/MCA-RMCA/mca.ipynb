{
 "cells": [
  {
   "cell_type": "code",
   "execution_count": 2,
   "metadata": {},
   "outputs": [
    {
     "name": "stdout",
     "output_type": "stream",
     "text": [
      "/home/ta2/dev/akai_ml_practice/rl/rl-docker/src/myenv/storehouse/MCA-RMCA\n"
     ]
    }
   ],
   "source": [
    "import subprocess\n",
    "!pwd"
   ]
  },
  {
   "cell_type": "code",
   "execution_count": null,
   "metadata": {},
   "outputs": [],
   "source": []
  }
 ],
 "metadata": {
  "kernelspec": {
   "display_name": "Python 3.8.13 ('rl')",
   "language": "python",
   "name": "python3"
  },
  "language_info": {
   "codemirror_mode": {
    "name": "ipython",
    "version": 3
   },
   "file_extension": ".py",
   "mimetype": "text/x-python",
   "name": "python",
   "nbconvert_exporter": "python",
   "pygments_lexer": "ipython3",
   "version": "3.8.13"
  },
  "orig_nbformat": 4,
  "vscode": {
   "interpreter": {
    "hash": "eef02a38f9e2a64a97fe0080f57459732fa3876fcac1ce2d4abe5662cc39ff4d"
   }
  }
 },
 "nbformat": 4,
 "nbformat_minor": 2
}
