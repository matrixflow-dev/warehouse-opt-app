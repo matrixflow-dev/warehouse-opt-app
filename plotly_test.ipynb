{
 "cells": [
  {
   "cell_type": "code",
   "execution_count": 1,
   "id": "e4d287fb-eb7d-48f3-b8af-72e56518356e",
   "metadata": {},
   "outputs": [
    {
     "name": "stdout",
     "output_type": "stream",
     "text": [
      "Collecting plotly\n",
      "  Downloading plotly-5.23.0-py3-none-any.whl.metadata (7.3 kB)\n",
      "Requirement already satisfied: tenacity>=6.2.0 in /Users/tdual/miniforge3/envs/py3.10/lib/python3.10/site-packages (from plotly) (8.3.0)\n",
      "Requirement already satisfied: packaging in /Users/tdual/miniforge3/envs/py3.10/lib/python3.10/site-packages (from plotly) (23.2)\n",
      "Downloading plotly-5.23.0-py3-none-any.whl (17.3 MB)\n",
      "\u001b[2K   \u001b[38;2;114;156;31m━━━━━━━━━━━━━━━━━━━━━━━━━━━━━━━━━━━━━━━━\u001b[0m \u001b[32m17.3/17.3 MB\u001b[0m \u001b[31m44.6 MB/s\u001b[0m eta \u001b[36m0:00:00\u001b[0mm eta \u001b[36m0:00:01\u001b[0m[36m0:00:01\u001b[0m\n",
      "\u001b[?25hInstalling collected packages: plotly\n",
      "Successfully installed plotly-5.23.0\n"
     ]
    }
   ],
   "source": [
    "! pip install plotly"
   ]
  },
  {
   "cell_type": "code",
   "execution_count": 13,
   "id": "91e41fb7-b4d4-4e4a-a747-8f2e8dd83271",
   "metadata": {},
   "outputs": [],
   "source": [
    "map_config = {\n",
    "  \"map_height\": 50,\n",
    "  \"map_width\": 50,\n",
    "  \"racks\": [\n",
    "    {\n",
    "      \"width\": 50,\n",
    "      \"height\": 1,\n",
    "      \"pos\": [0, 0],\n",
    "      \"pick_direction\": \"vertical\",\n",
    "      \"rack_id\": \"101-01-101\"\n",
    "    },\n",
    "    {\n",
    "      \"width\": 11,\n",
    "      \"height\": 2,\n",
    "      \"pos\": [4, 12],\n",
    "      \"pick_direction\": \"vertical\",\n",
    "      \"rack_id\": \"101-01-102\"\n",
    "    },\n",
    "    {\n",
    "      \"width\": 11,\n",
    "      \"height\": 2,\n",
    "      \"pos\": [7, 12],\n",
    "      \"pick_direction\": \"vertical\",\n",
    "      \"rack_id\": \"101-01-103\"\n",
    "    },\n",
    "    {\n",
    "      \"width\": 11,\n",
    "      \"height\": 2,\n",
    "      \"pos\": [10, 12],\n",
    "      \"pick_direction\": \"vertical\",\n",
    "      \"rack_id\": \"101-01-104\"\n",
    "    },\n",
    "    {\n",
    "      \"width\": 11,\n",
    "      \"height\": 2,\n",
    "      \"pos\": [4, 27],\n",
    "      \"pick_direction\": \"vertical\",\n",
    "      \"rack_id\": \"101-01-105\"\n",
    "    },\n",
    "    {\n",
    "      \"width\": 11,\n",
    "      \"height\": 2,\n",
    "      \"pos\": [7, 27],\n",
    "      \"pick_direction\": \"vertical\",\n",
    "      \"rack_id\": \"101-01-106\"\n",
    "    },\n",
    "    {\n",
    "      \"width\": 11,\n",
    "      \"height\": 2,\n",
    "      \"pos\": [10, 27],\n",
    "      \"pick_direction\": \"vertical\",\n",
    "      \"rack_id\": \"101-01-107\"\n",
    "    },\n",
    "    {\n",
    "      \"width\": 7,\n",
    "      \"height\": 2,\n",
    "      \"pos\": [14, 12],\n",
    "      \"pick_direction\": \"vertical\",\n",
    "      \"rack_id\": \"101-02-108\"\n",
    "    },\n",
    "    {\n",
    "      \"width\": 7,\n",
    "      \"height\": 2,\n",
    "      \"pos\": [18, 12],\n",
    "      \"pick_direction\": \"vertical\",\n",
    "      \"rack_id\": \"101-02-109\"\n",
    "    },\n",
    "    {\n",
    "      \"width\": 7,\n",
    "      \"height\": 2,\n",
    "      \"pos\": [22, 12],\n",
    "      \"pick_direction\": \"vertical\",\n",
    "      \"rack_id\": \"101-02-110\"\n",
    "    },\n",
    "    {\n",
    "      \"width\": 8,\n",
    "      \"height\": 2,\n",
    "      \"pos\": [14, 21],\n",
    "      \"pick_direction\": \"vertical\",\n",
    "      \"rack_id\": \"101-02-111\"\n",
    "    },\n",
    "    {\n",
    "      \"width\": 8,\n",
    "      \"height\": 2,\n",
    "      \"pos\": [18, 21],\n",
    "      \"pick_direction\": \"vertical\",\n",
    "      \"rack_id\": \"101-02-112\"\n",
    "    },\n",
    "    {\n",
    "      \"width\": 8,\n",
    "      \"height\": 2,\n",
    "      \"pos\": [22, 21],\n",
    "      \"pick_direction\": \"vertical\",\n",
    "      \"rack_id\": \"101-02-113\"\n",
    "    },\n",
    "    {\n",
    "      \"width\": 7,\n",
    "      \"height\": 2,\n",
    "      \"pos\": [14, 31],\n",
    "      \"pick_direction\": \"vertical\",\n",
    "      \"rack_id\": \"101-02-114\"\n",
    "    },\n",
    "    {\n",
    "      \"width\": 7,\n",
    "      \"height\": 2,\n",
    "      \"pos\": [18, 31],\n",
    "      \"pick_direction\": \"vertical\",\n",
    "      \"rack_id\": \"101-02-115\"\n",
    "    },\n",
    "    {\n",
    "      \"width\": 7,\n",
    "      \"height\": 2,\n",
    "      \"pos\": [22, 31],\n",
    "      \"pick_direction\": \"vertical\",\n",
    "      \"rack_id\": \"101-02-116\"\n",
    "    },\n",
    "    {\n",
    "      \"width\": 1,\n",
    "      \"height\": 4,\n",
    "      \"pos\": [3, 0],\n",
    "      \"pick_direction\": \"horizontal\",\n",
    "      \"rack_id\": \"101-02-117\"\n",
    "    },\n",
    "    {\n",
    "      \"width\": 2,\n",
    "      \"height\": 4,\n",
    "      \"pos\": [3, 2],\n",
    "      \"pick_direction\": \"horizontal\",\n",
    "      \"rack_id\": \"101-02-118\"\n",
    "    },\n",
    "    {\n",
    "      \"width\": 2,\n",
    "      \"height\": 4,\n",
    "      \"pos\": [3, 5],\n",
    "      \"pick_direction\": \"horizontal\",\n",
    "      \"rack_id\": \"101-02-119\"\n",
    "    },\n",
    "    {\n",
    "      \"width\": 2,\n",
    "      \"height\": 4,\n",
    "      \"pos\": [3, 8],\n",
    "      \"pick_direction\": \"horizontal\",\n",
    "      \"rack_id\": \"101-02-120\"\n",
    "    },\n",
    "    {\n",
    "      \"width\": 2,\n",
    "      \"height\": 4,\n",
    "      \"pos\": [3, 40],\n",
    "      \"pick_direction\": \"horizontal\",\n",
    "      \"rack_id\": \"101-02-121\"\n",
    "    },\n",
    "    {\n",
    "      \"width\": 2,\n",
    "      \"height\": 4,\n",
    "      \"pos\": [3, 43],\n",
    "      \"pick_direction\": \"horizontal\",\n",
    "      \"rack_id\": \"101-02-122\"\n",
    "    },\n",
    "    {\n",
    "      \"width\": 2,\n",
    "      \"height\": 4,\n",
    "      \"pos\": [3, 46],\n",
    "      \"pick_direction\": \"horizontal\",\n",
    "      \"rack_id\": \"101-02-123\"\n",
    "    },\n",
    "    {\n",
    "      \"width\": 1,\n",
    "      \"height\": 4,\n",
    "      \"pos\": [3, 49],\n",
    "      \"pick_direction\": \"horizontal\",\n",
    "      \"rack_id\": \"101-03-124\"\n",
    "    },\n",
    "    {\n",
    "      \"width\": 1,\n",
    "      \"height\": 8,\n",
    "      \"pos\": [8, 0],\n",
    "      \"pick_direction\": \"horizontal\",\n",
    "      \"rack_id\": \"101-03-125\"\n",
    "    },\n",
    "    {\n",
    "      \"width\": 2,\n",
    "      \"height\": 8,\n",
    "      \"pos\": [8, 2],\n",
    "      \"pick_direction\": \"horizontal\",\n",
    "      \"rack_id\": \"101-03-126\"\n",
    "    },\n",
    "    {\n",
    "      \"width\": 2,\n",
    "      \"height\": 8,\n",
    "      \"pos\": [8, 5],\n",
    "      \"pick_direction\": \"horizontal\",\n",
    "      \"rack_id\": \"101-03-127\"\n",
    "    },\n",
    "    {\n",
    "      \"width\": 2,\n",
    "      \"height\": 8,\n",
    "      \"pos\": [8, 8],\n",
    "      \"pick_direction\": \"horizontal\",\n",
    "      \"rack_id\": \"101-03-128\"\n",
    "    },\n",
    "    {\n",
    "      \"width\": 2,\n",
    "      \"height\": 8,\n",
    "      \"pos\": [8, 40],\n",
    "      \"pick_direction\": \"horizontal\",\n",
    "      \"rack_id\": \"101-03-129\"\n",
    "    },\n",
    "    {\n",
    "      \"width\": 2,\n",
    "      \"height\": 8,\n",
    "      \"pos\": [8, 43],\n",
    "      \"pick_direction\": \"horizontal\",\n",
    "      \"rack_id\": \"101-03-130\"\n",
    "    },\n",
    "    {\n",
    "      \"width\": 2,\n",
    "      \"height\": 8,\n",
    "      \"pos\": [8, 46],\n",
    "      \"pick_direction\": \"horizontal\",\n",
    "      \"rack_id\": \"101-03-131\"\n",
    "    },\n",
    "    {\n",
    "      \"width\": 1,\n",
    "      \"height\": 8,\n",
    "      \"pos\": [8, 49],\n",
    "      \"pick_direction\": \"horizontal\",\n",
    "      \"rack_id\": \"101-03-132\"\n",
    "    },\n",
    "    {\n",
    "      \"width\": 1,\n",
    "      \"height\": 8,\n",
    "      \"pos\": [17, 0],\n",
    "      \"pick_direction\": \"horizontal\",\n",
    "      \"rack_id\": \"101-03-133\"\n",
    "    },\n",
    "    {\n",
    "      \"width\": 2,\n",
    "      \"height\": 8,\n",
    "      \"pos\": [17, 2],\n",
    "      \"pick_direction\": \"horizontal\",\n",
    "      \"rack_id\": \"101-03-134\"\n",
    "    },\n",
    "    {\n",
    "      \"width\": 2,\n",
    "      \"height\": 8,\n",
    "      \"pos\": [17, 5],\n",
    "      \"pick_direction\": \"horizontal\",\n",
    "      \"rack_id\": \"101-03-135\"\n",
    "    },\n",
    "    {\n",
    "      \"width\": 2,\n",
    "      \"height\": 8,\n",
    "      \"pos\": [17, 8],\n",
    "      \"pick_direction\": \"horizontal\",\n",
    "      \"rack_id\": \"101-03-136\"\n",
    "    },\n",
    "    {\n",
    "      \"width\": 2,\n",
    "      \"height\": 8,\n",
    "      \"pos\": [17, 40],\n",
    "      \"pick_direction\": \"horizontal\",\n",
    "      \"rack_id\": \"101-03-137\"\n",
    "    },\n",
    "    {\n",
    "      \"width\": 2,\n",
    "      \"height\": 8,\n",
    "      \"pos\": [17, 43],\n",
    "      \"pick_direction\": \"horizontal\",\n",
    "      \"rack_id\": \"101-03-138\"\n",
    "    },\n",
    "    {\n",
    "      \"width\": 2,\n",
    "      \"height\": 8,\n",
    "      \"pos\": [17, 46],\n",
    "      \"pick_direction\": \"horizontal\",\n",
    "      \"rack_id\": \"101-03-139\"\n",
    "    },\n",
    "    {\n",
    "      \"width\": 1,\n",
    "      \"height\": 8,\n",
    "      \"pos\": [17, 49],\n",
    "      \"pick_direction\": \"horizontal\",\n",
    "      \"rack_id\": \"101-03-140\"\n",
    "    },\n",
    "    {\n",
    "      \"width\": 1,\n",
    "      \"height\": 8,\n",
    "      \"pos\": [27, 0],\n",
    "      \"pick_direction\": \"horizontal\",\n",
    "      \"rack_id\": \"101-03-141\"\n",
    "    },\n",
    "    {\n",
    "      \"width\": 2,\n",
    "      \"height\": 8,\n",
    "      \"pos\": [27, 3],\n",
    "      \"pick_direction\": \"horizontal\",\n",
    "      \"rack_id\": \"101-03-142\"\n",
    "    },\n",
    "    {\n",
    "      \"width\": 2,\n",
    "      \"height\": 8,\n",
    "      \"pos\": [27, 7],\n",
    "      \"pick_direction\": \"horizontal\",\n",
    "      \"rack_id\": \"101-03-143\"\n",
    "    },\n",
    "    {\n",
    "      \"width\": 2,\n",
    "      \"height\": 8,\n",
    "      \"pos\": [27, 11],\n",
    "      \"pick_direction\": \"horizontal\",\n",
    "      \"rack_id\": \"101-03-144\"\n",
    "    },\n",
    "    {\n",
    "      \"width\": 2,\n",
    "      \"height\": 8,\n",
    "      \"pos\": [27, 15],\n",
    "      \"pick_direction\": \"horizontal\",\n",
    "      \"rack_id\": \"101-03-145\"\n",
    "    },\n",
    "    {\n",
    "      \"width\": 2,\n",
    "      \"height\": 8,\n",
    "      \"pos\": [27, 19],\n",
    "      \"pick_direction\": \"horizontal\",\n",
    "      \"rack_id\": \"101-03-146\"\n",
    "    },\n",
    "    {\n",
    "      \"width\": 2,\n",
    "      \"height\": 8,\n",
    "      \"pos\": [27, 29],\n",
    "      \"pick_direction\": \"horizontal\",\n",
    "      \"rack_id\": \"101-03-147\"\n",
    "    },\n",
    "    {\n",
    "      \"width\": 2,\n",
    "      \"height\": 8,\n",
    "      \"pos\": [27, 33],\n",
    "      \"pick_direction\": \"horizontal\",\n",
    "      \"rack_id\": \"101-03-148\"\n",
    "    },\n",
    "    {\n",
    "      \"width\": 2,\n",
    "      \"height\": 8,\n",
    "      \"pos\": [27, 37],\n",
    "      \"pick_direction\": \"horizontal\",\n",
    "      \"rack_id\": \"101-03-149\"\n",
    "    },\n",
    "    {\n",
    "      \"width\": 2,\n",
    "      \"height\": 8,\n",
    "      \"pos\": [27, 41],\n",
    "      \"pick_direction\": \"horizontal\",\n",
    "      \"rack_id\": \"101-03-150\"\n",
    "    },\n",
    "    {\n",
    "      \"width\": 2,\n",
    "      \"height\": 8,\n",
    "      \"pos\": [27, 45],\n",
    "      \"pick_direction\": \"horizontal\",\n",
    "      \"rack_id\": \"101-03-151\"\n",
    "    },\n",
    "    {\n",
    "      \"width\": 1,\n",
    "      \"height\": 8,\n",
    "      \"pos\": [27, 49],\n",
    "      \"pick_direction\": \"horizontal\",\n",
    "      \"rack_id\": \"101-03-152\"\n",
    "    },\n",
    "    {\n",
    "      \"width\": 1,\n",
    "      \"height\": 8,\n",
    "      \"pos\": [37, 0],\n",
    "      \"pick_direction\": \"horizontal\",\n",
    "      \"rack_id\": \"101-03-153\"\n",
    "    },\n",
    "    {\n",
    "      \"width\": 2,\n",
    "      \"height\": 8,\n",
    "      \"pos\": [37, 3],\n",
    "      \"pick_direction\": \"horizontal\",\n",
    "      \"rack_id\": \"101-03-154\"\n",
    "    },\n",
    "    {\n",
    "      \"width\": 2,\n",
    "      \"height\": 8,\n",
    "      \"pos\": [37, 7],\n",
    "      \"pick_direction\": \"horizontal\",\n",
    "      \"rack_id\": \"101-03-155\"\n",
    "    },\n",
    "    {\n",
    "      \"width\": 2,\n",
    "      \"height\": 8,\n",
    "      \"pos\": [37, 11],\n",
    "      \"pick_direction\": \"horizontal\",\n",
    "      \"rack_id\": \"101-03-156\"\n",
    "    },\n",
    "    {\n",
    "      \"width\": 2,\n",
    "      \"height\": 8,\n",
    "      \"pos\": [37, 15],\n",
    "      \"pick_direction\": \"horizontal\",\n",
    "      \"rack_id\": \"101-03-157\"\n",
    "    },\n",
    "    {\n",
    "      \"width\": 2,\n",
    "      \"height\": 8,\n",
    "      \"pos\": [37, 19],\n",
    "      \"pick_direction\": \"horizontal\",\n",
    "      \"rack_id\": \"101-03-158\"\n",
    "    },\n",
    "    {\n",
    "      \"width\": 2,\n",
    "      \"height\": 8,\n",
    "      \"pos\": [37, 29],\n",
    "      \"pick_direction\": \"horizontal\",\n",
    "      \"rack_id\": \"101-03-159\"\n",
    "    },\n",
    "    {\n",
    "      \"width\": 2,\n",
    "      \"height\": 8,\n",
    "      \"pos\": [37, 33],\n",
    "      \"pick_direction\": \"horizontal\",\n",
    "      \"rack_id\": \"101-03-160\"\n",
    "    },\n",
    "    {\n",
    "      \"width\": 2,\n",
    "      \"height\": 8,\n",
    "      \"pos\": [37, 37],\n",
    "      \"pick_direction\": \"horizontal\",\n",
    "      \"rack_id\": \"101-03-161\"\n",
    "    },\n",
    "    {\n",
    "      \"width\": 2,\n",
    "      \"height\": 8,\n",
    "      \"pos\": [37, 41],\n",
    "      \"pick_direction\": \"horizontal\",\n",
    "      \"rack_id\": \"101-03-162\"\n",
    "    },\n",
    "    {\n",
    "      \"width\": 2,\n",
    "      \"height\": 8,\n",
    "      \"pos\": [37, 45],\n",
    "      \"pick_direction\": \"horizontal\",\n",
    "      \"rack_id\": \"101-03-163\"\n",
    "    },\n",
    "    {\n",
    "      \"width\": 1,\n",
    "      \"height\": 8,\n",
    "      \"pos\": [37, 49],\n",
    "      \"pick_direction\": \"horizontal\",\n",
    "      \"rack_id\": \"101-03-164\"\n",
    "    }\n",
    "  ]\n",
    "}\n"
   ]
  },
  {
   "cell_type": "code",
   "execution_count": 18,
   "id": "b9b29bc2-4687-402e-b6e1-ca21407802b6",
   "metadata": {},
   "outputs": [
    {
     "data": {
      "text/plain": [
       "<bound method Axes.set of <Axes: xlabel='Width'>>"
      ]
     },
     "execution_count": 18,
     "metadata": {},
     "output_type": "execute_result"
    },
    {
     "data": {
      "image/png": "[encoded data removed]",
      "text/plain": [
       "<Figure size 1000x1000 with 1 Axes>"
      ]
     },
     "metadata": {},
     "output_type": "display_data"
    }
   ],
   "source": [
    "import matplotlib.pyplot as plt\n",
    "import matplotlib.patches as patches\n",
    "\n",
    "# Map dimensions\n",
    "map_height = 50\n",
    "map_width = 50\n",
    "\n",
    "# Racks data\n",
    "racks = map_config[\"racks\"]\n",
    "\n",
    "# Create figure and axes\n",
    "fig, ax = plt.subplots(figsize=(10, 10))\n",
    "\n",
    "# Plot each rack\n",
    "for rack in racks:\n",
    "    rect = patches.Rectangle((rack['pos'][1], rack['pos'][0]), rack['width'], rack['height'], linewidth=1, edgecolor='blue', facecolor='skyblue')\n",
    "    ax.add_patch(rect)\n",
    "\n",
    "# Set limits, grid, and labels\n",
    "ax.set_xlim(0, map_width)\n",
    "ax.set_ylim(0, map_height)\n",
    "ax.set_xticks(range(0, map_width+1, 5))\n",
    "ax.set_yticks(range(0, map_height+1, 5))\n",
    "ax.grid(True)\n",
    "ax.set_xlabel('Width')\n",
    "ax.set\n"
   ]
  },
  {
   "cell_type": "code",
   "execution_count": 23,
   "id": "11b5c5c7-074d-4d5b-ba19-e554458b8304",
   "metadata": {},
   "outputs": [
    {
     "data": {
      "application/vnd.plotly.v1+json": {
       "config": {
        "plotlyServerURL": "https://plot.ly"
       },
       "data": [
        {
         "hoverinfo": "text",
         "marker": {
          "color": "rgba(0,0,0,0)",
          "size": 2
         },
         "mode": "markers",
         "showlegend": false,
         "text": "Rack ID: 101-01-101 <br>Position: (0, 0)<br>Size: 50x1",
         "type": "scatter",
         "x": [
          25
         ],
         "y": [
          0.5
         ]
        },
        {
         "hoverinfo": "text",
         "marker": {
          "color": "rgba(0,0,0,0)",
          "size": 2
         },
         "mode": "markers",
         "showlegend": false,
         "text": "Rack ID: 101-01-102 <br>Position: (12, 4)<br>Size: 11x2",
         "type": "scatter",
         "x": [
          17.5
         ],
         "y": [
          5
         ]
        },
        {
         "hoverinfo": "text",
         "marker": {
          "color": "rgba(0,0,0,0)",
          "size": 2
         },
         "mode": "markers",
         "showlegend": false,
         "text": "Rack ID: 101-01-103 <br>Position: (12, 7)<br>Size: 11x2",
         "type": "scatter",
         "x": [
          17.5
         ],
         "y": [
          8
         ]
        },
        {
         "hoverinfo": "text",
         "marker": {
          "color": "rgba(0,0,0,0)",
          "size": 2
         },
         "mode": "markers",
         "showlegend": false,
         "text": "Rack ID: 101-01-104 <br>Position: (12, 10)<br>Size: 11x2",
         "type": "scatter",
         "x": [
          17.5
         ],
         "y": [
          11
         ]
        },
        {
         "hoverinfo": "text",
         "marker": {
          "color": "rgba(0,0,0,0)",
          "size": 2
         },
         "mode": "markers",
         "showlegend": false,
         "text": "Rack ID: 101-01-105 <br>Position: (27, 4)<br>Size: 11x2",
         "type": "scatter",
         "x": [
          32.5
         ],
         "y": [
          5
         ]
        },
        {
         "hoverinfo": "text",
         "marker": {
          "color": "rgba(0,0,0,0)",
          "size": 2
         },
         "mode": "markers",
         "showlegend": false,
         "text": "Rack ID: 101-01-106 <br>Position: (27, 7)<br>Size: 11x2",
         "type": "scatter",
         "x": [
          32.5
         ],
         "y": [
          8
         ]
        },
        {
         "hoverinfo": "text",
         "marker": {
          "color": "rgba(0,0,0,0)",
          "size": 2
         },
         "mode": "markers",
         "showlegend": false,
         "text": "Rack ID: 101-01-107 <br>Position: (27, 10)<br>Size: 11x2",
         "type": "scatter",
         "x": [
          32.5
         ],
         "y": [
          11
         ]
        },
        {
         "hoverinfo": "text",
         "marker": {
          "color": "rgba(0,0,0,0)",
          "size": 2
         },
         "mode": "markers",
         "showlegend": false,
         "text": "Rack ID: 101-02-108 <br>Position: (12, 14)<br>Size: 7x2",
         "type": "scatter",
         "x": [
          15.5
         ],
         "y": [
          15
         ]
        },
        {
         "hoverinfo": "text",
         "marker": {
          "color": "rgba(0,0,0,0)",
          "size": 2
         },
         "mode": "markers",
         "showlegend": false,
         "text": "Rack ID: 101-02-109 <br>Position: (12, 18)<br>Size: 7x2",
         "type": "scatter",
         "x": [
          15.5
         ],
         "y": [
          19
         ]
        },
        {
         "hoverinfo": "text",
         "marker": {
          "color": "rgba(0,0,0,0)",
          "size": 2
         },
         "mode": "markers",
         "showlegend": false,
         "text": "Rack ID: 101-02-110 <br>Position: (12, 22)<br>Size: 7x2",
         "type": "scatter",
         "x": [
          15.5
         ],
         "y": [
          23
         ]
        },
        {
         "hoverinfo": "text",
         "marker": {
          "color": "rgba(0,0,0,0)",
          "size": 2
         },
         "mode": "markers",
         "showlegend": false,
         "text": "Rack ID: 101-02-111 <br>Position: (21, 14)<br>Size: 8x2",
         "type": "scatter",
         "x": [
          25
         ],
         "y": [
          15
         ]
        },
        {
         "hoverinfo": "text",
         "marker": {
          "color": "rgba(0,0,0,0)",
          "size": 2
         },
         "mode": "markers",
         "showlegend": false,
         "text": "Rack ID: 101-02-112 <br>Position: (21, 18)<br>Size: 8x2",
         "type": "scatter",
         "x": [
          25
         ],
         "y": [
          19
         ]
        },
        {
         "hoverinfo": "text",
         "marker": {
          "color": "rgba(0,0,0,0)",
          "size": 2
         },
         "mode": "markers",
         "showlegend": false,
         "text": "Rack ID: 101-02-113 <br>Position: (21, 22)<br>Size: 8x2",
         "type": "scatter",
         "x": [
          25
         ],
         "y": [
          23
         ]
        },
        {
         "hoverinfo": "text",
         "marker": {
          "color": "rgba(0,0,0,0)",
          "size": 2
         },
         "mode": "markers",
         "showlegend": false,
         "text": "Rack ID: 101-02-114 <br>Position: (31, 14)<br>Size: 7x2",
         "type": "scatter",
         "x": [
          34.5
         ],
         "y": [
          15
         ]
        },
        {
         "hoverinfo": "text",
         "marker": {
          "color": "rgba(0,0,0,0)",
          "size": 2
         },
         "mode": "markers",
         "showlegend": false,
         "text": "Rack ID: 101-02-115 <br>Position: (31, 18)<br>Size: 7x2",
         "type": "scatter",
         "x": [
          34.5
         ],
         "y": [
          19
         ]
        },
        {
         "hoverinfo": "text",
         "marker": {
          "color": "rgba(0,0,0,0)",
          "size": 2
         },
         "mode": "markers",
         "showlegend": false,
         "text": "Rack ID: 101-02-116 <br>Position: (31, 22)<br>Size: 7x2",
         "type": "scatter",
         "x": [
          34.5
         ],
         "y": [
          23
         ]
        },
        {
         "hoverinfo": "text",
         "marker": {
          "color": "rgba(0,0,0,0)",
          "size": 2
         },
         "mode": "markers",
         "showlegend": false,
         "text": "Rack ID: 101-02-117 <br>Position: (0, 3)<br>Size: 1x4",
         "type": "scatter",
         "x": [
          0.5
         ],
         "y": [
          5
         ]
        },
        {
         "hoverinfo": "text",
         "marker": {
          "color": "rgba(0,0,0,0)",
          "size": 2
         },
         "mode": "markers",
         "showlegend": false,
         "text": "Rack ID: 101-02-118 <br>Position: (2, 3)<br>Size: 2x4",
         "type": "scatter",
         "x": [
          3
         ],
         "y": [
          5
         ]
        },
        {
         "hoverinfo": "text",
         "marker": {
          "color": "rgba(0,0,0,0)",
          "size": 2
         },
         "mode": "markers",
         "showlegend": false,
         "text": "Rack ID: 101-02-119 <br>Position: (5, 3)<br>Size: 2x4",
         "type": "scatter",
         "x": [
          6
         ],
         "y": [
          5
         ]
        },
        {
         "hoverinfo": "text",
         "marker": {
          "color": "rgba(0,0,0,0)",
          "size": 2
         },
         "mode": "markers",
         "showlegend": false,
         "text": "Rack ID: 101-02-120 <br>Position: (8, 3)<br>Size: 2x4",
         "type": "scatter",
         "x": [
          9
         ],
         "y": [
          5
         ]
        },
        {
         "hoverinfo": "text",
         "marker": {
          "color": "rgba(0,0,0,0)",
          "size": 2
         },
         "mode": "markers",
         "showlegend": false,
         "text": "Rack ID: 101-02-121 <br>Position: (40, 3)<br>Size: 2x4",
         "type": "scatter",
         "x": [
          41
         ],
         "y": [
          5
         ]
        },
        {
         "hoverinfo": "text",
         "marker": {
          "color": "rgba(0,0,0,0)",
          "size": 2
         },
         "mode": "markers",
         "showlegend": false,
         "text": "Rack ID: 101-02-122 <br>Position: (43, 3)<br>Size: 2x4",
         "type": "scatter",
         "x": [
          44
         ],
         "y": [
          5
         ]
        },
        {
         "hoverinfo": "text",
         "marker": {
          "color": "rgba(0,0,0,0)",
          "size": 2
         },
         "mode": "markers",
         "showlegend": false,
         "text": "Rack ID: 101-02-123 <br>Position: (46, 3)<br>Size: 2x4",
         "type": "scatter",
         "x": [
          47
         ],
         "y": [
          5
         ]
        },
        {
         "hoverinfo": "text",
         "marker": {
          "color": "rgba(0,0,0,0)",
          "size": 2
         },
         "mode": "markers",
         "showlegend": false,
         "text": "Rack ID: 101-03-124 <br>Position: (49, 3)<br>Size: 1x4",
         "type": "scatter",
         "x": [
          49.5
         ],
         "y": [
          5
         ]
        },
        {
         "hoverinfo": "text",
         "marker": {
          "color": "rgba(0,0,0,0)",
          "size": 2
         },
         "mode": "markers",
         "showlegend": false,
         "text": "Rack ID: 101-03-125 <br>Position: (0, 8)<br>Size: 1x8",
         "type": "scatter",
         "x": [
          0.5
         ],
         "y": [
          12
         ]
        },
        {
         "hoverinfo": "text",
         "marker": {
          "color": "rgba(0,0,0,0)",
          "size": 2
         },
         "mode": "markers",
         "showlegend": false,
         "text": "Rack ID: 101-03-126 <br>Position: (2, 8)<br>Size: 2x8",
         "type": "scatter",
         "x": [
          3
         ],
         "y": [
          12
         ]
        },
        {
         "hoverinfo": "text",
         "marker": {
          "color": "rgba(0,0,0,0)",
          "size": 2
         },
         "mode": "markers",
         "showlegend": false,
         "text": "Rack ID: 101-03-127 <br>Position: (5, 8)<br>Size: 2x8",
         "type": "scatter",
         "x": [
          6
         ],
         "y": [
          12
         ]
        },
        {
         "hoverinfo": "text",
         "marker": {
          "color": "rgba(0,0,0,0)",
          "size": 2
         },
         "mode": "markers",
         "showlegend": false,
         "text": "Rack ID: 101-03-128 <br>Position: (8, 8)<br>Size: 2x8",
         "type": "scatter",
         "x": [
          9
         ],
         "y": [
          12
         ]
        },
        {
         "hoverinfo": "text",
         "marker": {
          "color": "rgba(0,0,0,0)",
          "size": 2
         },
         "mode": "markers",
         "showlegend": false,
         "text": "Rack ID: 101-03-129 <br>Position: (40, 8)<br>Size: 2x8",
         "type": "scatter",
         "x": [
          41
         ],
         "y": [
          12
         ]
        },
        {
         "hoverinfo": "text",
         "marker": {
          "color": "rgba(0,0,0,0)",
          "size": 2
         },
         "mode": "markers",
         "showlegend": false,
         "text": "Rack ID: 101-03-130 <br>Position: (43, 8)<br>Size: 2x8",
         "type": "scatter",
         "x": [
          44
         ],
         "y": [
          12
         ]
        },
        {
         "hoverinfo": "text",
         "marker": {
          "color": "rgba(0,0,0,0)",
          "size": 2
         },
         "mode": "markers",
         "showlegend": false,
         "text": "Rack ID: 101-03-131 <br>Position: (46, 8)<br>Size: 2x8",
         "type": "scatter",
         "x": [
          47
         ],
         "y": [
          12
         ]
        },
        {
         "hoverinfo": "text",
         "marker": {
          "color": "rgba(0,0,0,0)",
          "size": 2
         },
         "mode": "markers",
         "showlegend": false,
         "text": "Rack ID: 101-03-132 <br>Position: (49, 8)<br>Size: 1x8",
         "type": "scatter",
         "x": [
          49.5
         ],
         "y": [
          12
         ]
        },
        {
         "hoverinfo": "text",
         "marker": {
          "color": "rgba(0,0,0,0)",
          "size": 2
         },
         "mode": "markers",
         "showlegend": false,
         "text": "Rack ID: 101-03-133 <br>Position: (0, 17)<br>Size: 1x8",
         "type": "scatter",
         "x": [
          0.5
         ],
         "y": [
          21
         ]
        },
        {
         "hoverinfo": "text",
         "marker": {
          "color": "rgba(0,0,0,0)",
          "size": 2
         },
         "mode": "markers",
         "showlegend": false,
         "text": "Rack ID: 101-03-134 <br>Position: (2, 17)<br>Size: 2x8",
         "type": "scatter",
         "x": [
          3
         ],
         "y": [
          21
         ]
        },
        {
         "hoverinfo": "text",
         "marker": {
          "color": "rgba(0,0,0,0)",
          "size": 2
         },
         "mode": "markers",
         "showlegend": false,
         "text": "Rack ID: 101-03-135 <br>Position: (5, 17)<br>Size: 2x8",
         "type": "scatter",
         "x": [
          6
         ],
         "y": [
          21
         ]
        },
        {
         "hoverinfo": "text",
         "marker": {
          "color": "rgba(0,0,0,0)",
          "size": 2
         },
         "mode": "markers",
         "showlegend": false,
         "text": "Rack ID: 101-03-136 <br>Position: (8, 17)<br>Size: 2x8",
         "type": "scatter",
         "x": [
          9
         ],
         "y": [
          21
         ]
        },
        {
         "hoverinfo": "text",
         "marker": {
          "color": "rgba(0,0,0,0)",
          "size": 2
         },
         "mode": "markers",
         "showlegend": false,
         "text": "Rack ID: 101-03-137 <br>Position: (40, 17)<br>Size: 2x8",
         "type": "scatter",
         "x": [
          41
         ],
         "y": [
          21
         ]
        },
        {
         "hoverinfo": "text",
         "marker": {
          "color": "rgba(0,0,0,0)",
          "size": 2
         },
         "mode": "markers",
         "showlegend": false,
         "text": "Rack ID: 101-03-138 <br>Position: (43, 17)<br>Size: 2x8",
         "type": "scatter",
         "x": [
          44
         ],
         "y": [
          21
         ]
        },
        {
         "hoverinfo": "text",
         "marker": {
          "color": "rgba(0,0,0,0)",
          "size": 2
         },
         "mode": "markers",
         "showlegend": false,
         "text": "Rack ID: 101-03-139 <br>Position: (46, 17)<br>Size: 2x8",
         "type": "scatter",
         "x": [
          47
         ],
         "y": [
          21
         ]
        },
        {
         "hoverinfo": "text",
         "marker": {
          "color": "rgba(0,0,0,0)",
          "size": 2
         },
         "mode": "markers",
         "showlegend": false,
         "text": "Rack ID: 101-03-140 <br>Position: (49, 17)<br>Size: 1x8",
         "type": "scatter",
         "x": [
          49.5
         ],
         "y": [
          21
         ]
        },
        {
         "hoverinfo": "text",
         "marker": {
          "color": "rgba(0,0,0,0)",
          "size": 2
         },
         "mode": "markers",
         "showlegend": false,
         "text": "Rack ID: 101-03-141 <br>Position: (0, 27)<br>Size: 1x8",
         "type": "scatter",
         "x": [
          0.5
         ],
         "y": [
          31
         ]
        },
        {
         "hoverinfo": "text",
         "marker": {
          "color": "rgba(0,0,0,0)",
          "size": 2
         },
         "mode": "markers",
         "showlegend": false,
         "text": "Rack ID: 101-03-142 <br>Position: (3, 27)<br>Size: 2x8",
         "type": "scatter",
         "x": [
          4
         ],
         "y": [
          31
         ]
        },
        {
         "hoverinfo": "text",
         "marker": {
          "color": "rgba(0,0,0,0)",
          "size": 2
         },
         "mode": "markers",
         "showlegend": false,
         "text": "Rack ID: 101-03-143 <br>Position: (7, 27)<br>Size: 2x8",
         "type": "scatter",
         "x": [
          8
         ],
         "y": [
          31
         ]
        },
        {
         "hoverinfo": "text",
         "marker": {
          "color": "rgba(0,0,0,0)",
          "size": 2
         },
         "mode": "markers",
         "showlegend": false,
         "text": "Rack ID: 101-03-144 <br>Position: (11, 27)<br>Size: 2x8",
         "type": "scatter",
         "x": [
          12
         ],
         "y": [
          31
         ]
        },
        {
         "hoverinfo": "text",
         "marker": {
          "color": "rgba(0,0,0,0)",
          "size": 2
         },
         "mode": "markers",
         "showlegend": false,
         "text": "Rack ID: 101-03-145 <br>Position: (15, 27)<br>Size: 2x8",
         "type": "scatter",
         "x": [
          16
         ],
         "y": [
          31
         ]
        },
        {
         "hoverinfo": "text",
         "marker": {
          "color": "rgba(0,0,0,0)",
          "size": 2
         },
         "mode": "markers",
         "showlegend": false,
         "text": "Rack ID: 101-03-146 <br>Position: (19, 27)<br>Size: 2x8",
         "type": "scatter",
         "x": [
          20
         ],
         "y": [
          31
         ]
        },
        {
         "hoverinfo": "text",
         "marker": {
          "color": "rgba(0,0,0,0)",
          "size": 2
         },
         "mode": "markers",
         "showlegend": false,
         "text": "Rack ID: 101-03-147 <br>Position: (29, 27)<br>Size: 2x8",
         "type": "scatter",
         "x": [
          30
         ],
         "y": [
          31
         ]
        },
        {
         "hoverinfo": "text",
         "marker": {
          "color": "rgba(0,0,0,0)",
          "size": 2
         },
         "mode": "markers",
         "showlegend": false,
         "text": "Rack ID: 101-03-148 <br>Position: (33, 27)<br>Size: 2x8",
         "type": "scatter",
         "x": [
          34
         ],
         "y": [
          31
         ]
        },
        {
         "hoverinfo": "text",
         "marker": {
          "color": "rgba(0,0,0,0)",
          "size": 2
         },
         "mode": "markers",
         "showlegend": false,
         "text": "Rack ID: 101-03-149 <br>Position: (37, 27)<br>Size: 2x8",
         "type": "scatter",
         "x": [
          38
         ],
         "y": [
          31
         ]
        },
        {
         "hoverinfo": "text",
         "marker": {
          "color": "rgba(0,0,0,0)",
          "size": 2
         },
         "mode": "markers",
         "showlegend": false,
         "text": "Rack ID: 101-03-150 <br>Position: (41, 27)<br>Size: 2x8",
         "type": "scatter",
         "x": [
          42
         ],
         "y": [
          31
         ]
        },
        {
         "hoverinfo": "text",
         "marker": {
          "color": "rgba(0,0,0,0)",
          "size": 2
         },
         "mode": "markers",
         "showlegend": false,
         "text": "Rack ID: 101-03-151 <br>Position: (45, 27)<br>Size: 2x8",
         "type": "scatter",
         "x": [
          46
         ],
         "y": [
          31
         ]
        },
        {
         "hoverinfo": "text",
         "marker": {
          "color": "rgba(0,0,0,0)",
          "size": 2
         },
         "mode": "markers",
         "showlegend": false,
         "text": "Rack ID: 101-03-152 <br>Position: (49, 27)<br>Size: 1x8",
         "type": "scatter",
         "x": [
          49.5
         ],
         "y": [
          31
         ]
        },
        {
         "hoverinfo": "text",
         "marker": {
          "color": "rgba(0,0,0,0)",
          "size": 2
         },
         "mode": "markers",
         "showlegend": false,
         "text": "Rack ID: 101-03-153 <br>Position: (0, 37)<br>Size: 1x8",
         "type": "scatter",
         "x": [
          0.5
         ],
         "y": [
          41
         ]
        },
        {
         "hoverinfo": "text",
         "marker": {
          "color": "rgba(0,0,0,0)",
          "size": 2
         },
         "mode": "markers",
         "showlegend": false,
         "text": "Rack ID: 101-03-154 <br>Position: (3, 37)<br>Size: 2x8",
         "type": "scatter",
         "x": [
          4
         ],
         "y": [
          41
         ]
        },
        {
         "hoverinfo": "text",
         "marker": {
          "color": "rgba(0,0,0,0)",
          "size": 2
         },
         "mode": "markers",
         "showlegend": false,
         "text": "Rack ID: 101-03-155 <br>Position: (7, 37)<br>Size: 2x8",
         "type": "scatter",
         "x": [
          8
         ],
         "y": [
          41
         ]
        },
        {
         "hoverinfo": "text",
         "marker": {
          "color": "rgba(0,0,0,0)",
          "size": 2
         },
         "mode": "markers",
         "showlegend": false,
         "text": "Rack ID: 101-03-156 <br>Position: (11, 37)<br>Size: 2x8",
         "type": "scatter",
         "x": [
          12
         ],
         "y": [
          41
         ]
        },
        {
         "hoverinfo": "text",
         "marker": {
          "color": "rgba(0,0,0,0)",
          "size": 2
         },
         "mode": "markers",
         "showlegend": false,
         "text": "Rack ID: 101-03-157 <br>Position: (15, 37)<br>Size: 2x8",
         "type": "scatter",
         "x": [
          16
         ],
         "y": [
          41
         ]
        },
        {
         "hoverinfo": "text",
         "marker": {
          "color": "rgba(0,0,0,0)",
          "size": 2
         },
         "mode": "markers",
         "showlegend": false,
         "text": "Rack ID: 101-03-158 <br>Position: (19, 37)<br>Size: 2x8",
         "type": "scatter",
         "x": [
          20
         ],
         "y": [
          41
         ]
        },
        {
         "hoverinfo": "text",
         "marker": {
          "color": "rgba(0,0,0,0)",
          "size": 2
         },
         "mode": "markers",
         "showlegend": false,
         "text": "Rack ID: 101-03-159 <br>Position: (29, 37)<br>Size: 2x8",
         "type": "scatter",
         "x": [
          30
         ],
         "y": [
          41
         ]
        },
        {
         "hoverinfo": "text",
         "marker": {
          "color": "rgba(0,0,0,0)",
          "size": 2
         },
         "mode": "markers",
         "showlegend": false,
         "text": "Rack ID: 101-03-160 <br>Position: (33, 37)<br>Size: 2x8",
         "type": "scatter",
         "x": [
          34
         ],
         "y": [
          41
         ]
        },
        {
         "hoverinfo": "text",
         "marker": {
          "color": "rgba(0,0,0,0)",
          "size": 2
         },
         "mode": "markers",
         "showlegend": false,
         "text": "Rack ID: 101-03-161 <br>Position: (37, 37)<br>Size: 2x8",
         "type": "scatter",
         "x": [
          38
         ],
         "y": [
          41
         ]
        },
        {
         "hoverinfo": "text",
         "marker": {
          "color": "rgba(0,0,0,0)",
          "size": 2
         },
         "mode": "markers",
         "showlegend": false,
         "text": "Rack ID: 101-03-162 <br>Position: (41, 37)<br>Size: 2x8",
         "type": "scatter",
         "x": [
          42
         ],
         "y": [
          41
         ]
        },
        {
         "hoverinfo": "text",
         "marker": {
          "color": "rgba(0,0,0,0)",
          "size": 2
         },
         "mode": "markers",
         "showlegend": false,
         "text": "Rack ID: 101-03-163 <br>Position: (45, 37)<br>Size: 2x8",
         "type": "scatter",
         "x": [
          46
         ],
         "y": [
          41
         ]
        },
        {
         "hoverinfo": "text",
         "marker": {
          "color": "rgba(0,0,0,0)",
          "size": 2
         },
         "mode": "markers",
         "showlegend": false,
         "text": "Rack ID: 101-03-164 <br>Position: (49, 37)<br>Size: 1x8",
         "type": "scatter",
         "x": [
          49.5
         ],
         "y": [
          41
         ]
        }
       ],
       "layout": {
        "height": 600,
        "shapes": [
         {
          "fillcolor": "lightgreen",
          "line": {
           "color": "RoyalBlue"
          },
          "opacity": 0.6,
          "type": "rect",
          "x0": 0,
          "x1": 50,
          "y0": 0,
          "y1": 1
         },
         {
          "fillcolor": "lightgreen",
          "line": {
           "color": "RoyalBlue"
          },
          "opacity": 0.6,
          "type": "rect",
          "x0": 12,
          "x1": 23,
          "y0": 4,
          "y1": 6
         },
         {
          "fillcolor": "lightgreen",
          "line": {
           "color": "RoyalBlue"
          },
          "opacity": 0.6,
          "type": "rect",
          "x0": 12,
          "x1": 23,
          "y0": 7,
          "y1": 9
         },
         {
          "fillcolor": "lightgreen",
          "line": {
           "color": "RoyalBlue"
          },
          "opacity": 0.6,
          "type": "rect",
          "x0": 12,
          "x1": 23,
          "y0": 10,
          "y1": 12
         },
         {
          "fillcolor": "lightgreen",
          "line": {
           "color": "RoyalBlue"
          },
          "opacity": 0.6,
          "type": "rect",
          "x0": 27,
          "x1": 38,
          "y0": 4,
          "y1": 6
         },
         {
          "fillcolor": "lightgreen",
          "line": {
           "color": "RoyalBlue"
          },
          "opacity": 0.6,
          "type": "rect",
          "x0": 27,
          "x1": 38,
          "y0": 7,
          "y1": 9
         },
         {
          "fillcolor": "lightgreen",
          "line": {
           "color": "RoyalBlue"
          },
          "opacity": 0.6,
          "type": "rect",
          "x0": 27,
          "x1": 38,
          "y0": 10,
          "y1": 12
         },
         {
          "fillcolor": "lightgreen",
          "line": {
           "color": "RoyalBlue"
          },
          "opacity": 0.6,
          "type": "rect",
          "x0": 12,
          "x1": 19,
          "y0": 14,
          "y1": 16
         },
         {
          "fillcolor": "lightgreen",
          "line": {
           "color": "RoyalBlue"
          },
          "opacity": 0.6,
          "type": "rect",
          "x0": 12,
          "x1": 19,
          "y0": 18,
          "y1": 20
         },
         {
          "fillcolor": "lightgreen",
          "line": {
           "color": "RoyalBlue"
          },
          "opacity": 0.6,
          "type": "rect",
          "x0": 12,
          "x1": 19,
          "y0": 22,
          "y1": 24
         },
         {
          "fillcolor": "lightgreen",
          "line": {
           "color": "RoyalBlue"
          },
          "opacity": 0.6,
          "type": "rect",
          "x0": 21,
          "x1": 29,
          "y0": 14,
          "y1": 16
         },
         {
          "fillcolor": "lightgreen",
          "line": {
           "color": "RoyalBlue"
          },
          "opacity": 0.6,
          "type": "rect",
          "x0": 21,
          "x1": 29,
          "y0": 18,
          "y1": 20
         },
         {
          "fillcolor": "lightgreen",
          "line": {
           "color": "RoyalBlue"
          },
          "opacity": 0.6,
          "type": "rect",
          "x0": 21,
          "x1": 29,
          "y0": 22,
          "y1": 24
         },
         {
          "fillcolor": "lightgreen",
          "line": {
           "color": "RoyalBlue"
          },
          "opacity": 0.6,
          "type": "rect",
          "x0": 31,
          "x1": 38,
          "y0": 14,
          "y1": 16
         },
         {
          "fillcolor": "lightgreen",
          "line": {
           "color": "RoyalBlue"
          },
          "opacity": 0.6,
          "type": "rect",
          "x0": 31,
          "x1": 38,
          "y0": 18,
          "y1": 20
         },
         {
          "fillcolor": "lightgreen",
          "line": {
           "color": "RoyalBlue"
          },
          "opacity": 0.6,
          "type": "rect",
          "x0": 31,
          "x1": 38,
          "y0": 22,
          "y1": 24
         },
         {
          "fillcolor": "lightgreen",
          "line": {
           "color": "RoyalBlue"
          },
          "opacity": 0.6,
          "type": "rect",
          "x0": 0,
          "x1": 1,
          "y0": 3,
          "y1": 7
         },
         {
          "fillcolor": "lightgreen",
          "line": {
           "color": "RoyalBlue"
          },
          "opacity": 0.6,
          "type": "rect",
          "x0": 2,
          "x1": 4,
          "y0": 3,
          "y1": 7
         },
         {
          "fillcolor": "lightgreen",
          "line": {
           "color": "RoyalBlue"
          },
          "opacity": 0.6,
          "type": "rect",
          "x0": 5,
          "x1": 7,
          "y0": 3,
          "y1": 7
         },
         {
          "fillcolor": "lightgreen",
          "line": {
           "color": "RoyalBlue"
          },
          "opacity": 0.6,
          "type": "rect",
          "x0": 8,
          "x1": 10,
          "y0": 3,
          "y1": 7
         },
         {
          "fillcolor": "lightgreen",
          "line": {
           "color": "RoyalBlue"
          },
          "opacity": 0.6,
          "type": "rect",
          "x0": 40,
          "x1": 42,
          "y0": 3,
          "y1": 7
         },
         {
          "fillcolor": "lightgreen",
          "line": {
           "color": "RoyalBlue"
          },
          "opacity": 0.6,
          "type": "rect",
          "x0": 43,
          "x1": 45,
          "y0": 3,
          "y1": 7
         },
         {
          "fillcolor": "lightgreen",
          "line": {
           "color": "RoyalBlue"
          },
          "opacity": 0.6,
          "type": "rect",
          "x0": 46,
          "x1": 48,
          "y0": 3,
          "y1": 7
         },
         {
          "fillcolor": "lightgreen",
          "line": {
           "color": "RoyalBlue"
          },
          "opacity": 0.6,
          "type": "rect",
          "x0": 49,
          "x1": 50,
          "y0": 3,
          "y1": 7
         },
         {
          "fillcolor": "lightgreen",
          "line": {
           "color": "RoyalBlue"
          },
          "opacity": 0.6,
          "type": "rect",
          "x0": 0,
          "x1": 1,
          "y0": 8,
          "y1": 16
         },
         {
          "fillcolor": "lightgreen",
          "line": {
           "color": "RoyalBlue"
          },
          "opacity": 0.6,
          "type": "rect",
          "x0": 2,
          "x1": 4,
          "y0": 8,
          "y1": 16
         },
         {
          "fillcolor": "lightgreen",
          "line": {
           "color": "RoyalBlue"
          },
          "opacity": 0.6,
          "type": "rect",
          "x0": 5,
          "x1": 7,
          "y0": 8,
          "y1": 16
         },
         {
          "fillcolor": "lightgreen",
          "line": {
           "color": "RoyalBlue"
          },
          "opacity": 0.6,
          "type": "rect",
          "x0": 8,
          "x1": 10,
          "y0": 8,
          "y1": 16
         },
         {
          "fillcolor": "lightgreen",
          "line": {
           "color": "RoyalBlue"
          },
          "opacity": 0.6,
          "type": "rect",
          "x0": 40,
          "x1": 42,
          "y0": 8,
          "y1": 16
         },
         {
          "fillcolor": "lightgreen",
          "line": {
           "color": "RoyalBlue"
          },
          "opacity": 0.6,
          "type": "rect",
          "x0": 43,
          "x1": 45,
          "y0": 8,
          "y1": 16
         },
         {
          "fillcolor": "lightgreen",
          "line": {
           "color": "RoyalBlue"
          },
          "opacity": 0.6,
          "type": "rect",
          "x0": 46,
          "x1": 48,
          "y0": 8,
          "y1": 16
         },
         {
          "fillcolor": "lightgreen",
          "line": {
           "color": "RoyalBlue"
          },
          "opacity": 0.6,
          "type": "rect",
          "x0": 49,
          "x1": 50,
          "y0": 8,
          "y1": 16
         },
         {
          "fillcolor": "lightgreen",
          "line": {
           "color": "RoyalBlue"
          },
          "opacity": 0.6,
          "type": "rect",
          "x0": 0,
          "x1": 1,
          "y0": 17,
          "y1": 25
         },
         {
          "fillcolor": "lightgreen",
          "line": {
           "color": "RoyalBlue"
          },
          "opacity": 0.6,
          "type": "rect",
          "x0": 2,
          "x1": 4,
          "y0": 17,
          "y1": 25
         },
         {
          "fillcolor": "lightgreen",
          "line": {
           "color": "RoyalBlue"
          },
          "opacity": 0.6,
          "type": "rect",
          "x0": 5,
          "x1": 7,
          "y0": 17,
          "y1": 25
         },
         {
          "fillcolor": "lightgreen",
          "line": {
           "color": "RoyalBlue"
          },
          "opacity": 0.6,
          "type": "rect",
          "x0": 8,
          "x1": 10,
          "y0": 17,
          "y1": 25
         },
         {
          "fillcolor": "lightgreen",
          "line": {
           "color": "RoyalBlue"
          },
          "opacity": 0.6,
          "type": "rect",
          "x0": 40,
          "x1": 42,
          "y0": 17,
          "y1": 25
         },
         {
          "fillcolor": "lightgreen",
          "line": {
           "color": "RoyalBlue"
          },
          "opacity": 0.6,
          "type": "rect",
          "x0": 43,
          "x1": 45,
          "y0": 17,
          "y1": 25
         },
         {
          "fillcolor": "lightgreen",
          "line": {
           "color": "RoyalBlue"
          },
          "opacity": 0.6,
          "type": "rect",
          "x0": 46,
          "x1": 48,
          "y0": 17,
          "y1": 25
         },
         {
          "fillcolor": "lightgreen",
          "line": {
           "color": "RoyalBlue"
          },
          "opacity": 0.6,
          "type": "rect",
          "x0": 49,
          "x1": 50,
          "y0": 17,
          "y1": 25
         },
         {
          "fillcolor": "lightgreen",
          "line": {
           "color": "RoyalBlue"
          },
          "opacity": 0.6,
          "type": "rect",
          "x0": 0,
          "x1": 1,
          "y0": 27,
          "y1": 35
         },
         {
          "fillcolor": "lightgreen",
          "line": {
           "color": "RoyalBlue"
          },
          "opacity": 0.6,
          "type": "rect",
          "x0": 3,
          "x1": 5,
          "y0": 27,
          "y1": 35
         },
         {
          "fillcolor": "lightgreen",
          "line": {
           "color": "RoyalBlue"
          },
          "opacity": 0.6,
          "type": "rect",
          "x0": 7,
          "x1": 9,
          "y0": 27,
          "y1": 35
         },
         {
          "fillcolor": "lightgreen",
          "line": {
           "color": "RoyalBlue"
          },
          "opacity": 0.6,
          "type": "rect",
          "x0": 11,
          "x1": 13,
          "y0": 27,
          "y1": 35
         },
         {
          "fillcolor": "lightgreen",
          "line": {
           "color": "RoyalBlue"
          },
          "opacity": 0.6,
          "type": "rect",
          "x0": 15,
          "x1": 17,
          "y0": 27,
          "y1": 35
         },
         {
          "fillcolor": "lightgreen",
          "line": {
           "color": "RoyalBlue"
          },
          "opacity": 0.6,
          "type": "rect",
          "x0": 19,
          "x1": 21,
          "y0": 27,
          "y1": 35
         },
         {
          "fillcolor": "lightgreen",
          "line": {
           "color": "RoyalBlue"
          },
          "opacity": 0.6,
          "type": "rect",
          "x0": 29,
          "x1": 31,
          "y0": 27,
          "y1": 35
         },
         {
          "fillcolor": "lightgreen",
          "line": {
           "color": "RoyalBlue"
          },
          "opacity": 0.6,
          "type": "rect",
          "x0": 33,
          "x1": 35,
          "y0": 27,
          "y1": 35
         },
         {
          "fillcolor": "lightgreen",
          "line": {
           "color": "RoyalBlue"
          },
          "opacity": 0.6,
          "type": "rect",
          "x0": 37,
          "x1": 39,
          "y0": 27,
          "y1": 35
         },
         {
          "fillcolor": "lightgreen",
          "line": {
           "color": "RoyalBlue"
          },
          "opacity": 0.6,
          "type": "rect",
          "x0": 41,
          "x1": 43,
          "y0": 27,
          "y1": 35
         },
         {
          "fillcolor": "lightgreen",
          "line": {
           "color": "RoyalBlue"
          },
          "opacity": 0.6,
          "type": "rect",
          "x0": 45,
          "x1": 47,
          "y0": 27,
          "y1": 35
         },
         {
          "fillcolor": "lightgreen",
          "line": {
           "color": "RoyalBlue"
          },
          "opacity": 0.6,
          "type": "rect",
          "x0": 49,
          "x1": 50,
          "y0": 27,
          "y1": 35
         },
         {
          "fillcolor": "lightgreen",
          "line": {
           "color": "RoyalBlue"
          },
          "opacity": 0.6,
          "type": "rect",
          "x0": 0,
          "x1": 1,
          "y0": 37,
          "y1": 45
         },
         {
          "fillcolor": "lightgreen",
          "line": {
           "color": "RoyalBlue"
          },
          "opacity": 0.6,
          "type": "rect",
          "x0": 3,
          "x1": 5,
          "y0": 37,
          "y1": 45
         },
         {
          "fillcolor": "lightgreen",
          "line": {
           "color": "RoyalBlue"
          },
          "opacity": 0.6,
          "type": "rect",
          "x0": 7,
          "x1": 9,
          "y0": 37,
          "y1": 45
         },
         {
          "fillcolor": "lightgreen",
          "line": {
           "color": "RoyalBlue"
          },
          "opacity": 0.6,
          "type": "rect",
          "x0": 11,
          "x1": 13,
          "y0": 37,
          "y1": 45
         },
         {
          "fillcolor": "lightgreen",
          "line": {
           "color": "RoyalBlue"
          },
          "opacity": 0.6,
          "type": "rect",
          "x0": 15,
          "x1": 17,
          "y0": 37,
          "y1": 45
         },
         {
          "fillcolor": "lightgreen",
          "line": {
           "color": "RoyalBlue"
          },
          "opacity": 0.6,
          "type": "rect",
          "x0": 19,
          "x1": 21,
          "y0": 37,
          "y1": 45
         },
         {
          "fillcolor": "lightgreen",
          "line": {
           "color": "RoyalBlue"
          },
          "opacity": 0.6,
          "type": "rect",
          "x0": 29,
          "x1": 31,
          "y0": 37,
          "y1": 45
         },
         {
          "fillcolor": "lightgreen",
          "line": {
           "color": "RoyalBlue"
          },
          "opacity": 0.6,
          "type": "rect",
          "x0": 33,
          "x1": 35,
          "y0": 37,
          "y1": 45
         },
         {
          "fillcolor": "lightgreen",
          "line": {
           "color": "RoyalBlue"
          },
          "opacity": 0.6,
          "type": "rect",
          "x0": 37,
          "x1": 39,
          "y0": 37,
          "y1": 45
         },
         {
          "fillcolor": "lightgreen",
          "line": {
           "color": "RoyalBlue"
          },
          "opacity": 0.6,
          "type": "rect",
          "x0": 41,
          "x1": 43,
          "y0": 37,
          "y1": 45
         },
         {
          "fillcolor": "lightgreen",
          "line": {
           "color": "RoyalBlue"
          },
          "opacity": 0.6,
          "type": "rect",
          "x0": 45,
          "x1": 47,
          "y0": 37,
          "y1": 45
         },
         {
          "fillcolor": "lightgreen",
          "line": {
           "color": "RoyalBlue"
          },
          "opacity": 0.6,
          "type": "rect",
          "x0": 49,
          "x1": 50,
          "y0": 37,
          "y1": 45
         }
        ],
        "showlegend": false,
        "template": {
         "data": {
          "bar": [
           {
            "error_x": {
             "color": "#2a3f5f"
            },
            "error_y": {
             "color": "#2a3f5f"
            },
            "marker": {
             "line": {
              "color": "#E5ECF6",
              "width": 0.5
             },
             "pattern": {
              "fillmode": "overlay",
              "size": 10,
              "solidity": 0.2
             }
            },
            "type": "bar"
           }
          ],
          "barpolar": [
           {
            "marker": {
             "line": {
              "color": "#E5ECF6",
              "width": 0.5
             },
             "pattern": {
              "fillmode": "overlay",
              "size": 10,
              "solidity": 0.2
             }
            },
            "type": "barpolar"
           }
          ],
          "carpet": [
           {
            "aaxis": {
             "endlinecolor": "#2a3f5f",
             "gridcolor": "white",
             "linecolor": "white",
             "minorgridcolor": "white",
             "startlinecolor": "#2a3f5f"
            },
            "baxis": {
             "endlinecolor": "#2a3f5f",
             "gridcolor": "white",
             "linecolor": "white",
             "minorgridcolor": "white",
             "startlinecolor": "#2a3f5f"
            },
            "type": "carpet"
           }
          ],
          "choropleth": [
           {
            "colorbar": {
             "outlinewidth": 0,
             "ticks": ""
            },
            "type": "choropleth"
           }
          ],
          "contour": [
           {
            "colorbar": {
             "outlinewidth": 0,
             "ticks": ""
            },
            "colorscale": [
             [
              0,
              "#0d0887"
             ],
             [
              0.1111111111111111,
              "#46039f"
             ],
             [
              0.2222222222222222,
              "#7201a8"
             ],
             [
              0.3333333333333333,
              "#9c179e"
             ],
             [
              0.4444444444444444,
              "#bd3786"
             ],
             [
              0.5555555555555556,
              "#d8576b"
             ],
             [
              0.6666666666666666,
              "#ed7953"
             ],
             [
              0.7777777777777778,
              "#fb9f3a"
             ],
             [
              0.8888888888888888,
              "#fdca26"
             ],
             [
              1,
              "#f0f921"
             ]
            ],
            "type": "contour"
           }
          ],
          "contourcarpet": [
           {
            "colorbar": {
             "outlinewidth": 0,
             "ticks": ""
            },
            "type": "contourcarpet"
           }
          ],
          "heatmap": [
           {
            "colorbar": {
             "outlinewidth": 0,
             "ticks": ""
            },
            "colorscale": [
             [
              0,
              "#0d0887"
             ],
             [
              0.1111111111111111,
              "#46039f"
             ],
             [
              0.2222222222222222,
              "#7201a8"
             ],
             [
              0.3333333333333333,
              "#9c179e"
             ],
             [
              0.4444444444444444,
              "#bd3786"
             ],
             [
              0.5555555555555556,
              "#d8576b"
             ],
             [
              0.6666666666666666,
              "#ed7953"
             ],
             [
              0.7777777777777778,
              "#fb9f3a"
             ],
             [
              0.8888888888888888,
              "#fdca26"
             ],
             [
              1,
              "#f0f921"
             ]
            ],
            "type": "heatmap"
           }
          ],
          "heatmapgl": [
           {
            "colorbar": {
             "outlinewidth": 0,
             "ticks": ""
            },
            "colorscale": [
             [
              0,
              "#0d0887"
             ],
             [
              0.1111111111111111,
              "#46039f"
             ],
             [
              0.2222222222222222,
              "#7201a8"
             ],
             [
              0.3333333333333333,
              "#9c179e"
             ],
             [
              0.4444444444444444,
              "#bd3786"
             ],
             [
              0.5555555555555556,
              "#d8576b"
             ],
             [
              0.6666666666666666,
              "#ed7953"
             ],
             [
              0.7777777777777778,
              "#fb9f3a"
             ],
             [
              0.8888888888888888,
              "#fdca26"
             ],
             [
              1,
              "#f0f921"
             ]
            ],
            "type": "heatmapgl"
           }
          ],
          "histogram": [
           {
            "marker": {
             "pattern": {
              "fillmode": "overlay",
              "size": 10,
              "solidity": 0.2
             }
            },
            "type": "histogram"
           }
          ],
          "histogram2d": [
           {
            "colorbar": {
             "outlinewidth": 0,
             "ticks": ""
            },
            "colorscale": [
             [
              0,
              "#0d0887"
             ],
             [
              0.1111111111111111,
              "#46039f"
             ],
             [
              0.2222222222222222,
              "#7201a8"
             ],
             [
              0.3333333333333333,
              "#9c179e"
             ],
             [
              0.4444444444444444,
              "#bd3786"
             ],
             [
              0.5555555555555556,
              "#d8576b"
             ],
             [
              0.6666666666666666,
              "#ed7953"
             ],
             [
              0.7777777777777778,
              "#fb9f3a"
             ],
             [
              0.8888888888888888,
              "#fdca26"
             ],
             [
              1,
              "#f0f921"
             ]
            ],
            "type": "histogram2d"
           }
          ],
          "histogram2dcontour": [
           {
            "colorbar": {
             "outlinewidth": 0,
             "ticks": ""
            },
            "colorscale": [
             [
              0,
              "#0d0887"
             ],
             [
              0.1111111111111111,
              "#46039f"
             ],
             [
              0.2222222222222222,
              "#7201a8"
             ],
             [
              0.3333333333333333,
              "#9c179e"
             ],
             [
              0.4444444444444444,
              "#bd3786"
             ],
             [
              0.5555555555555556,
              "#d8576b"
             ],
             [
              0.6666666666666666,
              "#ed7953"
             ],
             [
              0.7777777777777778,
              "#fb9f3a"
             ],
             [
              0.8888888888888888,
              "#fdca26"
             ],
             [
              1,
              "#f0f921"
             ]
            ],
            "type": "histogram2dcontour"
           }
          ],
          "mesh3d": [
           {
            "colorbar": {
             "outlinewidth": 0,
             "ticks": ""
            },
            "type": "mesh3d"
           }
          ],
          "parcoords": [
           {
            "line": {
             "colorbar": {
              "outlinewidth": 0,
              "ticks": ""
             }
            },
            "type": "parcoords"
           }
          ],
          "pie": [
           {
            "automargin": true,
            "type": "pie"
           }
          ],
          "scatter": [
           {
            "fillpattern": {
             "fillmode": "overlay",
             "size": 10,
             "solidity": 0.2
            },
            "type": "scatter"
           }
          ],
          "scatter3d": [
           {
            "line": {
             "colorbar": {
              "outlinewidth": 0,
              "ticks": ""
             }
            },
            "marker": {
             "colorbar": {
              "outlinewidth": 0,
              "ticks": ""
             }
            },
            "type": "scatter3d"
           }
          ],
          "scattercarpet": [
           {
            "marker": {
             "colorbar": {
              "outlinewidth": 0,
              "ticks": ""
             }
            },
            "type": "scattercarpet"
           }
          ],
          "scattergeo": [
           {
            "marker": {
             "colorbar": {
              "outlinewidth": 0,
              "ticks": ""
             }
            },
            "type": "scattergeo"
           }
          ],
          "scattergl": [
           {
            "marker": {
             "colorbar": {
              "outlinewidth": 0,
              "ticks": ""
             }
            },
            "type": "scattergl"
           }
          ],
          "scattermapbox": [
           {
            "marker": {
             "colorbar": {
              "outlinewidth": 0,
              "ticks": ""
             }
            },
            "type": "scattermapbox"
           }
          ],
          "scatterpolar": [
           {
            "marker": {
             "colorbar": {
              "outlinewidth": 0,
              "ticks": ""
             }
            },
            "type": "scatterpolar"
           }
          ],
          "scatterpolargl": [
           {
            "marker": {
             "colorbar": {
              "outlinewidth": 0,
              "ticks": ""
             }
            },
            "type": "scatterpolargl"
           }
          ],
          "scatterternary": [
           {
            "marker": {
             "colorbar": {
              "outlinewidth": 0,
              "ticks": ""
             }
            },
            "type": "scatterternary"
           }
          ],
          "surface": [
           {
            "colorbar": {
             "outlinewidth": 0,
             "ticks": ""
            },
            "colorscale": [
             [
              0,
              "#0d0887"
             ],
             [
              0.1111111111111111,
              "#46039f"
             ],
             [
              0.2222222222222222,
              "#7201a8"
             ],
             [
              0.3333333333333333,
              "#9c179e"
             ],
             [
              0.4444444444444444,
              "#bd3786"
             ],
             [
              0.5555555555555556,
              "#d8576b"
             ],
             [
              0.6666666666666666,
              "#ed7953"
             ],
             [
              0.7777777777777778,
              "#fb9f3a"
             ],
             [
              0.8888888888888888,
              "#fdca26"
             ],
             [
              1,
              "#f0f921"
             ]
            ],
            "type": "surface"
           }
          ],
          "table": [
           {
            "cells": {
             "fill": {
              "color": "#EBF0F8"
             },
             "line": {
              "color": "white"
             }
            },
            "header": {
             "fill": {
              "color": "#C8D4E3"
             },
             "line": {
              "color": "white"
             }
            },
            "type": "table"
           }
          ]
         },
         "layout": {
          "annotationdefaults": {
           "arrowcolor": "#2a3f5f",
           "arrowhead": 0,
           "arrowwidth": 1
          },
          "autotypenumbers": "strict",
          "coloraxis": {
           "colorbar": {
            "outlinewidth": 0,
            "ticks": ""
           }
          },
          "colorscale": {
           "diverging": [
            [
             0,
             "#8e0152"
            ],
            [
             0.1,
             "#c51b7d"
            ],
            [
             0.2,
             "#de77ae"
            ],
            [
             0.3,
             "#f1b6da"
            ],
            [
             0.4,
             "#fde0ef"
            ],
            [
             0.5,
             "#f7f7f7"
            ],
            [
             0.6,
             "#e6f5d0"
            ],
            [
             0.7,
             "#b8e186"
            ],
            [
             0.8,
             "#7fbc41"
            ],
            [
             0.9,
             "#4d9221"
            ],
            [
             1,
             "#276419"
            ]
           ],
           "sequential": [
            [
             0,
             "#0d0887"
            ],
            [
             0.1111111111111111,
             "#46039f"
            ],
            [
             0.2222222222222222,
             "#7201a8"
            ],
            [
             0.3333333333333333,
             "#9c179e"
            ],
            [
             0.4444444444444444,
             "#bd3786"
            ],
            [
             0.5555555555555556,
             "#d8576b"
            ],
            [
             0.6666666666666666,
             "#ed7953"
            ],
            [
             0.7777777777777778,
             "#fb9f3a"
            ],
            [
             0.8888888888888888,
             "#fdca26"
            ],
            [
             1,
             "#f0f921"
            ]
           ],
           "sequentialminus": [
            [
             0,
             "#0d0887"
            ],
            [
             0.1111111111111111,
             "#46039f"
            ],
            [
             0.2222222222222222,
             "#7201a8"
            ],
            [
             0.3333333333333333,
             "#9c179e"
            ],
            [
             0.4444444444444444,
             "#bd3786"
            ],
            [
             0.5555555555555556,
             "#d8576b"
            ],
            [
             0.6666666666666666,
             "#ed7953"
            ],
            [
             0.7777777777777778,
             "#fb9f3a"
            ],
            [
             0.8888888888888888,
             "#fdca26"
            ],
            [
             1,
             "#f0f921"
            ]
           ]
          },
          "colorway": [
           "#636efa",
           "#EF553B",
           "#00cc96",
           "#ab63fa",
           "#FFA15A",
           "#19d3f3",
           "#FF6692",
           "#B6E880",
           "#FF97FF",
           "#FECB52"
          ],
          "font": {
           "color": "#2a3f5f"
          },
          "geo": {
           "bgcolor": "white",
           "lakecolor": "white",
           "landcolor": "#E5ECF6",
           "showlakes": true,
           "showland": true,
           "subunitcolor": "white"
          },
          "hoverlabel": {
           "align": "left"
          },
          "hovermode": "closest",
          "mapbox": {
           "style": "light"
          },
          "paper_bgcolor": "white",
          "plot_bgcolor": "#E5ECF6",
          "polar": {
           "angularaxis": {
            "gridcolor": "white",
            "linecolor": "white",
            "ticks": ""
           },
           "bgcolor": "#E5ECF6",
           "radialaxis": {
            "gridcolor": "white",
            "linecolor": "white",
            "ticks": ""
           }
          },
          "scene": {
           "xaxis": {
            "backgroundcolor": "#E5ECF6",
            "gridcolor": "white",
            "gridwidth": 2,
            "linecolor": "white",
            "showbackground": true,
            "ticks": "",
            "zerolinecolor": "white"
           },
           "yaxis": {
            "backgroundcolor": "#E5ECF6",
            "gridcolor": "white",
            "gridwidth": 2,
            "linecolor": "white",
            "showbackground": true,
            "ticks": "",
            "zerolinecolor": "white"
           },
           "zaxis": {
            "backgroundcolor": "#E5ECF6",
            "gridcolor": "white",
            "gridwidth": 2,
            "linecolor": "white",
            "showbackground": true,
            "ticks": "",
            "zerolinecolor": "white"
           }
          },
          "shapedefaults": {
           "line": {
            "color": "#2a3f5f"
           }
          },
          "ternary": {
           "aaxis": {
            "gridcolor": "white",
            "linecolor": "white",
            "ticks": ""
           },
           "baxis": {
            "gridcolor": "white",
            "linecolor": "white",
            "ticks": ""
           },
           "bgcolor": "#E5ECF6",
           "caxis": {
            "gridcolor": "white",
            "linecolor": "white",
            "ticks": ""
           }
          },
          "title": {
           "x": 0.05
          },
          "xaxis": {
           "automargin": true,
           "gridcolor": "white",
           "linecolor": "white",
           "ticks": "",
           "title": {
            "standoff": 15
           },
           "zerolinecolor": "white",
           "zerolinewidth": 2
          },
          "yaxis": {
           "automargin": true,
           "gridcolor": "white",
           "linecolor": "white",
           "ticks": "",
           "title": {
            "standoff": 15
           },
           "zerolinecolor": "white",
           "zerolinewidth": 2
          }
         }
        },
        "title": {
         "text": "倉庫レイアウト"
        },
        "width": 600,
        "xaxis": {
         "dtick": 5,
         "range": [
          0,
          50
         ],
         "showgrid": true
        },
        "yaxis": {
         "dtick": 5,
         "range": [
          50,
          0
         ],
         "showgrid": true
        }
       }
      },
      "text/html": [
       "<div>                            <div id=\"5989a77b-e928-41e0-a5a0-a02aa81ed500\" class=\"plotly-graph-div\" style=\"height:600px; width:600px;\"></div>            <script type=\"text/javascript\">                require([\"plotly\"], function(Plotly) {                    window.PLOTLYENV=window.PLOTLYENV || {};                                    if (document.getElementById(\"5989a77b-e928-41e0-a5a0-a02aa81ed500\")) {                    Plotly.newPlot(                        \"5989a77b-e928-41e0-a5a0-a02aa81ed500\",                        [{\"hoverinfo\":\"text\",\"marker\":{\"color\":\"rgba(0,0,0,0)\",\"size\":2},\"mode\":\"markers\",\"showlegend\":false,\"text\":\"Rack ID: 101-01-101 \\u003cbr\\u003ePosition: (0, 0)\\u003cbr\\u003eSize: 50x1\",\"x\":[25.0],\"y\":[0.5],\"type\":\"scatter\"},{\"hoverinfo\":\"text\",\"marker\":{\"color\":\"rgba(0,0,0,0)\",\"size\":2},\"mode\":\"markers\",\"showlegend\":false,\"text\":\"Rack ID: 101-01-102 \\u003cbr\\u003ePosition: (12, 4)\\u003cbr\\u003eSize: 11x2\",\"x\":[17.5],\"y\":[5.0],\"type\":\"scatter\"},{\"hoverinfo\":\"text\",\"marker\":{\"color\":\"rgba(0,0,0,0)\",\"size\":2},\"mode\":\"markers\",\"showlegend\":false,\"text\":\"Rack ID: 101-01-103 \\u003cbr\\u003ePosition: (12, 7)\\u003cbr\\u003eSize: 11x2\",\"x\":[17.5],\"y\":[8.0],\"type\":\"scatter\"},{\"hoverinfo\":\"text\",\"marker\":{\"color\":\"rgba(0,0,0,0)\",\"size\":2},\"mode\":\"markers\",\"showlegend\":false,\"text\":\"Rack ID: 101-01-104 \\u003cbr\\u003ePosition: (12, 10)\\u003cbr\\u003eSize: 11x2\",\"x\":[17.5],\"y\":[11.0],\"type\":\"scatter\"},{\"hoverinfo\":\"text\",\"marker\":{\"color\":\"rgba(0,0,0,0)\",\"size\":2},\"mode\":\"markers\",\"showlegend\":false,\"text\":\"Rack ID: 101-01-105 \\u003cbr\\u003ePosition: (27, 4)\\u003cbr\\u003eSize: 11x2\",\"x\":[32.5],\"y\":[5.0],\"type\":\"scatter\"},{\"hoverinfo\":\"text\",\"marker\":{\"color\":\"rgba(0,0,0,0)\",\"size\":2},\"mode\":\"markers\",\"showlegend\":false,\"text\":\"Rack ID: 101-01-106 \\u003cbr\\u003ePosition: (27, 7)\\u003cbr\\u003eSize: 11x2\",\"x\":[32.5],\"y\":[8.0],\"type\":\"scatter\"},{\"hoverinfo\":\"text\",\"marker\":{\"color\":\"rgba(0,0,0,0)\",\"size\":2},\"mode\":\"markers\",\"showlegend\":false,\"text\":\"Rack ID: 101-01-107 \\u003cbr\\u003ePosition: (27, 10)\\u003cbr\\u003eSize: 11x2\",\"x\":[32.5],\"y\":[11.0],\"type\":\"scatter\"},{\"hoverinfo\":\"text\",\"marker\":{\"color\":\"rgba(0,0,0,0)\",\"size\":2},\"mode\":\"markers\",\"showlegend\":false,\"text\":\"Rack ID: 101-02-108 \\u003cbr\\u003ePosition: (12, 14)\\u003cbr\\u003eSize: 7x2\",\"x\":[15.5],\"y\":[15.0],\"type\":\"scatter\"},{\"hoverinfo\":\"text\",\"marker\":{\"color\":\"rgba(0,0,0,0)\",\"size\":2},\"mode\":\"markers\",\"showlegend\":false,\"text\":\"Rack ID: 101-02-109 \\u003cbr\\u003ePosition: (12, 18)\\u003cbr\\u003eSize: 7x2\",\"x\":[15.5],\"y\":[19.0],\"type\":\"scatter\"},{\"hoverinfo\":\"text\",\"marker\":{\"color\":\"rgba(0,0,0,0)\",\"size\":2},\"mode\":\"markers\",\"showlegend\":false,\"text\":\"Rack ID: 101-02-110 \\u003cbr\\u003ePosition: (12, 22)\\u003cbr\\u003eSize: 7x2\",\"x\":[15.5],\"y\":[23.0],\"type\":\"scatter\"},{\"hoverinfo\":\"text\",\"marker\":{\"color\":\"rgba(0,0,0,0)\",\"size\":2},\"mode\":\"markers\",\"showlegend\":false,\"text\":\"Rack ID: 101-02-111 \\u003cbr\\u003ePosition: (21, 14)\\u003cbr\\u003eSize: 8x2\",\"x\":[25.0],\"y\":[15.0],\"type\":\"scatter\"},{\"hoverinfo\":\"text\",\"marker\":{\"color\":\"rgba(0,0,0,0)\",\"size\":2},\"mode\":\"markers\",\"showlegend\":false,\"text\":\"Rack ID: 101-02-112 \\u003cbr\\u003ePosition: (21, 18)\\u003cbr\\u003eSize: 8x2\",\"x\":[25.0],\"y\":[19.0],\"type\":\"scatter\"},{\"hoverinfo\":\"text\",\"marker\":{\"color\":\"rgba(0,0,0,0)\",\"size\":2},\"mode\":\"markers\",\"showlegend\":false,\"text\":\"Rack ID: 101-02-113 \\u003cbr\\u003ePosition: (21, 22)\\u003cbr\\u003eSize: 8x2\",\"x\":[25.0],\"y\":[23.0],\"type\":\"scatter\"},{\"hoverinfo\":\"text\",\"marker\":{\"color\":\"rgba(0,0,0,0)\",\"size\":2},\"mode\":\"markers\",\"showlegend\":false,\"text\":\"Rack ID: 101-02-114 \\u003cbr\\u003ePosition: (31, 14)\\u003cbr\\u003eSize: 7x2\",\"x\":[34.5],\"y\":[15.0],\"type\":\"scatter\"},{\"hoverinfo\":\"text\",\"marker\":{\"color\":\"rgba(0,0,0,0)\",\"size\":2},\"mode\":\"markers\",\"showlegend\":false,\"text\":\"Rack ID: 101-02-115 \\u003cbr\\u003ePosition: (31, 18)\\u003cbr\\u003eSize: 7x2\",\"x\":[34.5],\"y\":[19.0],\"type\":\"scatter\"},{\"hoverinfo\":\"text\",\"marker\":{\"color\":\"rgba(0,0,0,0)\",\"size\":2},\"mode\":\"markers\",\"showlegend\":false,\"text\":\"Rack ID: 101-02-116 \\u003cbr\\u003ePosition: (31, 22)\\u003cbr\\u003eSize: 7x2\",\"x\":[34.5],\"y\":[23.0],\"type\":\"scatter\"},{\"hoverinfo\":\"text\",\"marker\":{\"color\":\"rgba(0,0,0,0)\",\"size\":2},\"mode\":\"markers\",\"showlegend\":false,\"text\":\"Rack ID: 101-02-117 \\u003cbr\\u003ePosition: (0, 3)\\u003cbr\\u003eSize: 1x4\",\"x\":[0.5],\"y\":[5.0],\"type\":\"scatter\"},{\"hoverinfo\":\"text\",\"marker\":{\"color\":\"rgba(0,0,0,0)\",\"size\":2},\"mode\":\"markers\",\"showlegend\":false,\"text\":\"Rack ID: 101-02-118 \\u003cbr\\u003ePosition: (2, 3)\\u003cbr\\u003eSize: 2x4\",\"x\":[3.0],\"y\":[5.0],\"type\":\"scatter\"},{\"hoverinfo\":\"text\",\"marker\":{\"color\":\"rgba(0,0,0,0)\",\"size\":2},\"mode\":\"markers\",\"showlegend\":false,\"text\":\"Rack ID: 101-02-119 \\u003cbr\\u003ePosition: (5, 3)\\u003cbr\\u003eSize: 2x4\",\"x\":[6.0],\"y\":[5.0],\"type\":\"scatter\"},{\"hoverinfo\":\"text\",\"marker\":{\"color\":\"rgba(0,0,0,0)\",\"size\":2},\"mode\":\"markers\",\"showlegend\":false,\"text\":\"Rack ID: 101-02-120 \\u003cbr\\u003ePosition: (8, 3)\\u003cbr\\u003eSize: 2x4\",\"x\":[9.0],\"y\":[5.0],\"type\":\"scatter\"},{\"hoverinfo\":\"text\",\"marker\":{\"color\":\"rgba(0,0,0,0)\",\"size\":2},\"mode\":\"markers\",\"showlegend\":false,\"text\":\"Rack ID: 101-02-121 \\u003cbr\\u003ePosition: (40, 3)\\u003cbr\\u003eSize: 2x4\",\"x\":[41.0],\"y\":[5.0],\"type\":\"scatter\"},{\"hoverinfo\":\"text\",\"marker\":{\"color\":\"rgba(0,0,0,0)\",\"size\":2},\"mode\":\"markers\",\"showlegend\":false,\"text\":\"Rack ID: 101-02-122 \\u003cbr\\u003ePosition: (43, 3)\\u003cbr\\u003eSize: 2x4\",\"x\":[44.0],\"y\":[5.0],\"type\":\"scatter\"},{\"hoverinfo\":\"text\",\"marker\":{\"color\":\"rgba(0,0,0,0)\",\"size\":2},\"mode\":\"markers\",\"showlegend\":false,\"text\":\"Rack ID: 101-02-123 \\u003cbr\\u003ePosition: (46, 3)\\u003cbr\\u003eSize: 2x4\",\"x\":[47.0],\"y\":[5.0],\"type\":\"scatter\"},{\"hoverinfo\":\"text\",\"marker\":{\"color\":\"rgba(0,0,0,0)\",\"size\":2},\"mode\":\"markers\",\"showlegend\":false,\"text\":\"Rack ID: 101-03-124 \\u003cbr\\u003ePosition: (49, 3)\\u003cbr\\u003eSize: 1x4\",\"x\":[49.5],\"y\":[5.0],\"type\":\"scatter\"},{\"hoverinfo\":\"text\",\"marker\":{\"color\":\"rgba(0,0,0,0)\",\"size\":2},\"mode\":\"markers\",\"showlegend\":false,\"text\":\"Rack ID: 101-03-125 \\u003cbr\\u003ePosition: (0, 8)\\u003cbr\\u003eSize: 1x8\",\"x\":[0.5],\"y\":[12.0],\"type\":\"scatter\"},{\"hoverinfo\":\"text\",\"marker\":{\"color\":\"rgba(0,0,0,0)\",\"size\":2},\"mode\":\"markers\",\"showlegend\":false,\"text\":\"Rack ID: 101-03-126 \\u003cbr\\u003ePosition: (2, 8)\\u003cbr\\u003eSize: 2x8\",\"x\":[3.0],\"y\":[12.0],\"type\":\"scatter\"},{\"hoverinfo\":\"text\",\"marker\":{\"color\":\"rgba(0,0,0,0)\",\"size\":2},\"mode\":\"markers\",\"showlegend\":false,\"text\":\"Rack ID: 101-03-127 \\u003cbr\\u003ePosition: (5, 8)\\u003cbr\\u003eSize: 2x8\",\"x\":[6.0],\"y\":[12.0],\"type\":\"scatter\"},{\"hoverinfo\":\"text\",\"marker\":{\"color\":\"rgba(0,0,0,0)\",\"size\":2},\"mode\":\"markers\",\"showlegend\":false,\"text\":\"Rack ID: 101-03-128 \\u003cbr\\u003ePosition: (8, 8)\\u003cbr\\u003eSize: 2x8\",\"x\":[9.0],\"y\":[12.0],\"type\":\"scatter\"},{\"hoverinfo\":\"text\",\"marker\":{\"color\":\"rgba(0,0,0,0)\",\"size\":2},\"mode\":\"markers\",\"showlegend\":false,\"text\":\"Rack ID: 101-03-129 \\u003cbr\\u003ePosition: (40, 8)\\u003cbr\\u003eSize: 2x8\",\"x\":[41.0],\"y\":[12.0],\"type\":\"scatter\"},{\"hoverinfo\":\"text\",\"marker\":{\"color\":\"rgba(0,0,0,0)\",\"size\":2},\"mode\":\"markers\",\"showlegend\":false,\"text\":\"Rack ID: 101-03-130 \\u003cbr\\u003ePosition: (43, 8)\\u003cbr\\u003eSize: 2x8\",\"x\":[44.0],\"y\":[12.0],\"type\":\"scatter\"},{\"hoverinfo\":\"text\",\"marker\":{\"color\":\"rgba(0,0,0,0)\",\"size\":2},\"mode\":\"markers\",\"showlegend\":false,\"text\":\"Rack ID: 101-03-131 \\u003cbr\\u003ePosition: (46, 8)\\u003cbr\\u003eSize: 2x8\",\"x\":[47.0],\"y\":[12.0],\"type\":\"scatter\"},{\"hoverinfo\":\"text\",\"marker\":{\"color\":\"rgba(0,0,0,0)\",\"size\":2},\"mode\":\"markers\",\"showlegend\":false,\"text\":\"Rack ID: 101-03-132 \\u003cbr\\u003ePosition: (49, 8)\\u003cbr\\u003eSize: 1x8\",\"x\":[49.5],\"y\":[12.0],\"type\":\"scatter\"},{\"hoverinfo\":\"text\",\"marker\":{\"color\":\"rgba(0,0,0,0)\",\"size\":2},\"mode\":\"markers\",\"showlegend\":false,\"text\":\"Rack ID: 101-03-133 \\u003cbr\\u003ePosition: (0, 17)\\u003cbr\\u003eSize: 1x8\",\"x\":[0.5],\"y\":[21.0],\"type\":\"scatter\"},{\"hoverinfo\":\"text\",\"marker\":{\"color\":\"rgba(0,0,0,0)\",\"size\":2},\"mode\":\"markers\",\"showlegend\":false,\"text\":\"Rack ID: 101-03-134 \\u003cbr\\u003ePosition: (2, 17)\\u003cbr\\u003eSize: 2x8\",\"x\":[3.0],\"y\":[21.0],\"type\":\"scatter\"},{\"hoverinfo\":\"text\",\"marker\":{\"color\":\"rgba(0,0,0,0)\",\"size\":2},\"mode\":\"markers\",\"showlegend\":false,\"text\":\"Rack ID: 101-03-135 \\u003cbr\\u003ePosition: (5, 17)\\u003cbr\\u003eSize: 2x8\",\"x\":[6.0],\"y\":[21.0],\"type\":\"scatter\"},{\"hoverinfo\":\"text\",\"marker\":{\"color\":\"rgba(0,0,0,0)\",\"size\":2},\"mode\":\"markers\",\"showlegend\":false,\"text\":\"Rack ID: 101-03-136 \\u003cbr\\u003ePosition: (8, 17)\\u003cbr\\u003eSize: 2x8\",\"x\":[9.0],\"y\":[21.0],\"type\":\"scatter\"},{\"hoverinfo\":\"text\",\"marker\":{\"color\":\"rgba(0,0,0,0)\",\"size\":2},\"mode\":\"markers\",\"showlegend\":false,\"text\":\"Rack ID: 101-03-137 \\u003cbr\\u003ePosition: (40, 17)\\u003cbr\\u003eSize: 2x8\",\"x\":[41.0],\"y\":[21.0],\"type\":\"scatter\"},{\"hoverinfo\":\"text\",\"marker\":{\"color\":\"rgba(0,0,0,0)\",\"size\":2},\"mode\":\"markers\",\"showlegend\":false,\"text\":\"Rack ID: 101-03-138 \\u003cbr\\u003ePosition: (43, 17)\\u003cbr\\u003eSize: 2x8\",\"x\":[44.0],\"y\":[21.0],\"type\":\"scatter\"},{\"hoverinfo\":\"text\",\"marker\":{\"color\":\"rgba(0,0,0,0)\",\"size\":2},\"mode\":\"markers\",\"showlegend\":false,\"text\":\"Rack ID: 101-03-139 \\u003cbr\\u003ePosition: (46, 17)\\u003cbr\\u003eSize: 2x8\",\"x\":[47.0],\"y\":[21.0],\"type\":\"scatter\"},{\"hoverinfo\":\"text\",\"marker\":{\"color\":\"rgba(0,0,0,0)\",\"size\":2},\"mode\":\"markers\",\"showlegend\":false,\"text\":\"Rack ID: 101-03-140 \\u003cbr\\u003ePosition: (49, 17)\\u003cbr\\u003eSize: 1x8\",\"x\":[49.5],\"y\":[21.0],\"type\":\"scatter\"},{\"hoverinfo\":\"text\",\"marker\":{\"color\":\"rgba(0,0,0,0)\",\"size\":2},\"mode\":\"markers\",\"showlegend\":false,\"text\":\"Rack ID: 101-03-141 \\u003cbr\\u003ePosition: (0, 27)\\u003cbr\\u003eSize: 1x8\",\"x\":[0.5],\"y\":[31.0],\"type\":\"scatter\"},{\"hoverinfo\":\"text\",\"marker\":{\"color\":\"rgba(0,0,0,0)\",\"size\":2},\"mode\":\"markers\",\"showlegend\":false,\"text\":\"Rack ID: 101-03-142 \\u003cbr\\u003ePosition: (3, 27)\\u003cbr\\u003eSize: 2x8\",\"x\":[4.0],\"y\":[31.0],\"type\":\"scatter\"},{\"hoverinfo\":\"text\",\"marker\":{\"color\":\"rgba(0,0,0,0)\",\"size\":2},\"mode\":\"markers\",\"showlegend\":false,\"text\":\"Rack ID: 101-03-143 \\u003cbr\\u003ePosition: (7, 27)\\u003cbr\\u003eSize: 2x8\",\"x\":[8.0],\"y\":[31.0],\"type\":\"scatter\"},{\"hoverinfo\":\"text\",\"marker\":{\"color\":\"rgba(0,0,0,0)\",\"size\":2},\"mode\":\"markers\",\"showlegend\":false,\"text\":\"Rack ID: 101-03-144 \\u003cbr\\u003ePosition: (11, 27)\\u003cbr\\u003eSize: 2x8\",\"x\":[12.0],\"y\":[31.0],\"type\":\"scatter\"},{\"hoverinfo\":\"text\",\"marker\":{\"color\":\"rgba(0,0,0,0)\",\"size\":2},\"mode\":\"markers\",\"showlegend\":false,\"text\":\"Rack ID: 101-03-145 \\u003cbr\\u003ePosition: (15, 27)\\u003cbr\\u003eSize: 2x8\",\"x\":[16.0],\"y\":[31.0],\"type\":\"scatter\"},{\"hoverinfo\":\"text\",\"marker\":{\"color\":\"rgba(0,0,0,0)\",\"size\":2},\"mode\":\"markers\",\"showlegend\":false,\"text\":\"Rack ID: 101-03-146 \\u003cbr\\u003ePosition: (19, 27)\\u003cbr\\u003eSize: 2x8\",\"x\":[20.0],\"y\":[31.0],\"type\":\"scatter\"},{\"hoverinfo\":\"text\",\"marker\":{\"color\":\"rgba(0,0,0,0)\",\"size\":2},\"mode\":\"markers\",\"showlegend\":false,\"text\":\"Rack ID: 101-03-147 \\u003cbr\\u003ePosition: (29, 27)\\u003cbr\\u003eSize: 2x8\",\"x\":[30.0],\"y\":[31.0],\"type\":\"scatter\"},{\"hoverinfo\":\"text\",\"marker\":{\"color\":\"rgba(0,0,0,0)\",\"size\":2},\"mode\":\"markers\",\"showlegend\":false,\"text\":\"Rack ID: 101-03-148 \\u003cbr\\u003ePosition: (33, 27)\\u003cbr\\u003eSize: 2x8\",\"x\":[34.0],\"y\":[31.0],\"type\":\"scatter\"},{\"hoverinfo\":\"text\",\"marker\":{\"color\":\"rgba(0,0,0,0)\",\"size\":2},\"mode\":\"markers\",\"showlegend\":false,\"text\":\"Rack ID: 101-03-149 \\u003cbr\\u003ePosition: (37, 27)\\u003cbr\\u003eSize: 2x8\",\"x\":[38.0],\"y\":[31.0],\"type\":\"scatter\"},{\"hoverinfo\":\"text\",\"marker\":{\"color\":\"rgba(0,0,0,0)\",\"size\":2},\"mode\":\"markers\",\"showlegend\":false,\"text\":\"Rack ID: 101-03-150 \\u003cbr\\u003ePosition: (41, 27)\\u003cbr\\u003eSize: 2x8\",\"x\":[42.0],\"y\":[31.0],\"type\":\"scatter\"},{\"hoverinfo\":\"text\",\"marker\":{\"color\":\"rgba(0,0,0,0)\",\"size\":2},\"mode\":\"markers\",\"showlegend\":false,\"text\":\"Rack ID: 101-03-151 \\u003cbr\\u003ePosition: (45, 27)\\u003cbr\\u003eSize: 2x8\",\"x\":[46.0],\"y\":[31.0],\"type\":\"scatter\"},{\"hoverinfo\":\"text\",\"marker\":{\"color\":\"rgba(0,0,0,0)\",\"size\":2},\"mode\":\"markers\",\"showlegend\":false,\"text\":\"Rack ID: 101-03-152 \\u003cbr\\u003ePosition: (49, 27)\\u003cbr\\u003eSize: 1x8\",\"x\":[49.5],\"y\":[31.0],\"type\":\"scatter\"},{\"hoverinfo\":\"text\",\"marker\":{\"color\":\"rgba(0,0,0,0)\",\"size\":2},\"mode\":\"markers\",\"showlegend\":false,\"text\":\"Rack ID: 101-03-153 \\u003cbr\\u003ePosition: (0, 37)\\u003cbr\\u003eSize: 1x8\",\"x\":[0.5],\"y\":[41.0],\"type\":\"scatter\"},{\"hoverinfo\":\"text\",\"marker\":{\"color\":\"rgba(0,0,0,0)\",\"size\":2},\"mode\":\"markers\",\"showlegend\":false,\"text\":\"Rack ID: 101-03-154 \\u003cbr\\u003ePosition: (3, 37)\\u003cbr\\u003eSize: 2x8\",\"x\":[4.0],\"y\":[41.0],\"type\":\"scatter\"},{\"hoverinfo\":\"text\",\"marker\":{\"color\":\"rgba(0,0,0,0)\",\"size\":2},\"mode\":\"markers\",\"showlegend\":false,\"text\":\"Rack ID: 101-03-155 \\u003cbr\\u003ePosition: (7, 37)\\u003cbr\\u003eSize: 2x8\",\"x\":[8.0],\"y\":[41.0],\"type\":\"scatter\"},{\"hoverinfo\":\"text\",\"marker\":{\"color\":\"rgba(0,0,0,0)\",\"size\":2},\"mode\":\"markers\",\"showlegend\":false,\"text\":\"Rack ID: 101-03-156 \\u003cbr\\u003ePosition: (11, 37)\\u003cbr\\u003eSize: 2x8\",\"x\":[12.0],\"y\":[41.0],\"type\":\"scatter\"},{\"hoverinfo\":\"text\",\"marker\":{\"color\":\"rgba(0,0,0,0)\",\"size\":2},\"mode\":\"markers\",\"showlegend\":false,\"text\":\"Rack ID: 101-03-157 \\u003cbr\\u003ePosition: (15, 37)\\u003cbr\\u003eSize: 2x8\",\"x\":[16.0],\"y\":[41.0],\"type\":\"scatter\"},{\"hoverinfo\":\"text\",\"marker\":{\"color\":\"rgba(0,0,0,0)\",\"size\":2},\"mode\":\"markers\",\"showlegend\":false,\"text\":\"Rack ID: 101-03-158 \\u003cbr\\u003ePosition: (19, 37)\\u003cbr\\u003eSize: 2x8\",\"x\":[20.0],\"y\":[41.0],\"type\":\"scatter\"},{\"hoverinfo\":\"text\",\"marker\":{\"color\":\"rgba(0,0,0,0)\",\"size\":2},\"mode\":\"markers\",\"showlegend\":false,\"text\":\"Rack ID: 101-03-159 \\u003cbr\\u003ePosition: (29, 37)\\u003cbr\\u003eSize: 2x8\",\"x\":[30.0],\"y\":[41.0],\"type\":\"scatter\"},{\"hoverinfo\":\"text\",\"marker\":{\"color\":\"rgba(0,0,0,0)\",\"size\":2},\"mode\":\"markers\",\"showlegend\":false,\"text\":\"Rack ID: 101-03-160 \\u003cbr\\u003ePosition: (33, 37)\\u003cbr\\u003eSize: 2x8\",\"x\":[34.0],\"y\":[41.0],\"type\":\"scatter\"},{\"hoverinfo\":\"text\",\"marker\":{\"color\":\"rgba(0,0,0,0)\",\"size\":2},\"mode\":\"markers\",\"showlegend\":false,\"text\":\"Rack ID: 101-03-161 \\u003cbr\\u003ePosition: (37, 37)\\u003cbr\\u003eSize: 2x8\",\"x\":[38.0],\"y\":[41.0],\"type\":\"scatter\"},{\"hoverinfo\":\"text\",\"marker\":{\"color\":\"rgba(0,0,0,0)\",\"size\":2},\"mode\":\"markers\",\"showlegend\":false,\"text\":\"Rack ID: 101-03-162 \\u003cbr\\u003ePosition: (41, 37)\\u003cbr\\u003eSize: 2x8\",\"x\":[42.0],\"y\":[41.0],\"type\":\"scatter\"},{\"hoverinfo\":\"text\",\"marker\":{\"color\":\"rgba(0,0,0,0)\",\"size\":2},\"mode\":\"markers\",\"showlegend\":false,\"text\":\"Rack ID: 101-03-163 \\u003cbr\\u003ePosition: (45, 37)\\u003cbr\\u003eSize: 2x8\",\"x\":[46.0],\"y\":[41.0],\"type\":\"scatter\"},{\"hoverinfo\":\"text\",\"marker\":{\"color\":\"rgba(0,0,0,0)\",\"size\":2},\"mode\":\"markers\",\"showlegend\":false,\"text\":\"Rack ID: 101-03-164 \\u003cbr\\u003ePosition: (49, 37)\\u003cbr\\u003eSize: 1x8\",\"x\":[49.5],\"y\":[41.0],\"type\":\"scatter\"}],                        {\"template\":{\"data\":{\"histogram2dcontour\":[{\"type\":\"histogram2dcontour\",\"colorbar\":{\"outlinewidth\":0,\"ticks\":\"\"},\"colorscale\":[[0.0,\"#0d0887\"],[0.1111111111111111,\"#46039f\"],[0.2222222222222222,\"#7201a8\"],[0.3333333333333333,\"#9c179e\"],[0.4444444444444444,\"#bd3786\"],[0.5555555555555556,\"#d8576b\"],[0.6666666666666666,\"#ed7953\"],[0.7777777777777778,\"#fb9f3a\"],[0.8888888888888888,\"#fdca26\"],[1.0,\"#f0f921\"]]}],\"choropleth\":[{\"type\":\"choropleth\",\"colorbar\":{\"outlinewidth\":0,\"ticks\":\"\"}}],\"histogram2d\":[{\"type\":\"histogram2d\",\"colorbar\":{\"outlinewidth\":0,\"ticks\":\"\"},\"colorscale\":[[0.0,\"#0d0887\"],[0.1111111111111111,\"#46039f\"],[0.2222222222222222,\"#7201a8\"],[0.3333333333333333,\"#9c179e\"],[0.4444444444444444,\"#bd3786\"],[0.5555555555555556,\"#d8576b\"],[0.6666666666666666,\"#ed7953\"],[0.7777777777777778,\"#fb9f3a\"],[0.8888888888888888,\"#fdca26\"],[1.0,\"#f0f921\"]]}],\"heatmap\":[{\"type\":\"heatmap\",\"colorbar\":{\"outlinewidth\":0,\"ticks\":\"\"},\"colorscale\":[[0.0,\"#0d0887\"],[0.1111111111111111,\"#46039f\"],[0.2222222222222222,\"#7201a8\"],[0.3333333333333333,\"#9c179e\"],[0.4444444444444444,\"#bd3786\"],[0.5555555555555556,\"#d8576b\"],[0.6666666666666666,\"#ed7953\"],[0.7777777777777778,\"#fb9f3a\"],[0.8888888888888888,\"#fdca26\"],[1.0,\"#f0f921\"]]}],\"heatmapgl\":[{\"type\":\"heatmapgl\",\"colorbar\":{\"outlinewidth\":0,\"ticks\":\"\"},\"colorscale\":[[0.0,\"#0d0887\"],[0.1111111111111111,\"#46039f\"],[0.2222222222222222,\"#7201a8\"],[0.3333333333333333,\"#9c179e\"],[0.4444444444444444,\"#bd3786\"],[0.5555555555555556,\"#d8576b\"],[0.6666666666666666,\"#ed7953\"],[0.7777777777777778,\"#fb9f3a\"],[0.8888888888888888,\"#fdca26\"],[1.0,\"#f0f921\"]]}],\"contourcarpet\":[{\"type\":\"contourcarpet\",\"colorbar\":{\"outlinewidth\":0,\"ticks\":\"\"}}],\"contour\":[{\"type\":\"contour\",\"colorbar\":{\"outlinewidth\":0,\"ticks\":\"\"},\"colorscale\":[[0.0,\"#0d0887\"],[0.1111111111111111,\"#46039f\"],[0.2222222222222222,\"#7201a8\"],[0.3333333333333333,\"#9c179e\"],[0.4444444444444444,\"#bd3786\"],[0.5555555555555556,\"#d8576b\"],[0.6666666666666666,\"#ed7953\"],[0.7777777777777778,\"#fb9f3a\"],[0.8888888888888888,\"#fdca26\"],[1.0,\"#f0f921\"]]}],\"surface\":[{\"type\":\"surface\",\"colorbar\":{\"outlinewidth\":0,\"ticks\":\"\"},\"colorscale\":[[0.0,\"#0d0887\"],[0.1111111111111111,\"#46039f\"],[0.2222222222222222,\"#7201a8\"],[0.3333333333333333,\"#9c179e\"],[0.4444444444444444,\"#bd3786\"],[0.5555555555555556,\"#d8576b\"],[0.6666666666666666,\"#ed7953\"],[0.7777777777777778,\"#fb9f3a\"],[0.8888888888888888,\"#fdca26\"],[1.0,\"#f0f921\"]]}],\"mesh3d\":[{\"type\":\"mesh3d\",\"colorbar\":{\"outlinewidth\":0,\"ticks\":\"\"}}],\"scatter\":[{\"fillpattern\":{\"fillmode\":\"overlay\",\"size\":10,\"solidity\":0.2},\"type\":\"scatter\"}],\"parcoords\":[{\"type\":\"parcoords\",\"line\":{\"colorbar\":{\"outlinewidth\":0,\"ticks\":\"\"}}}],\"scatterpolargl\":[{\"type\":\"scatterpolargl\",\"marker\":{\"colorbar\":{\"outlinewidth\":0,\"ticks\":\"\"}}}],\"bar\":[{\"error_x\":{\"color\":\"#2a3f5f\"},\"error_y\":{\"color\":\"#2a3f5f\"},\"marker\":{\"line\":{\"color\":\"#E5ECF6\",\"width\":0.5},\"pattern\":{\"fillmode\":\"overlay\",\"size\":10,\"solidity\":0.2}},\"type\":\"bar\"}],\"scattergeo\":[{\"type\":\"scattergeo\",\"marker\":{\"colorbar\":{\"outlinewidth\":0,\"ticks\":\"\"}}}],\"scatterpolar\":[{\"type\":\"scatterpolar\",\"marker\":{\"colorbar\":{\"outlinewidth\":0,\"ticks\":\"\"}}}],\"histogram\":[{\"marker\":{\"pattern\":{\"fillmode\":\"overlay\",\"size\":10,\"solidity\":0.2}},\"type\":\"histogram\"}],\"scattergl\":[{\"type\":\"scattergl\",\"marker\":{\"colorbar\":{\"outlinewidth\":0,\"ticks\":\"\"}}}],\"scatter3d\":[{\"type\":\"scatter3d\",\"line\":{\"colorbar\":{\"outlinewidth\":0,\"ticks\":\"\"}},\"marker\":{\"colorbar\":{\"outlinewidth\":0,\"ticks\":\"\"}}}],\"scattermapbox\":[{\"type\":\"scattermapbox\",\"marker\":{\"colorbar\":{\"outlinewidth\":0,\"ticks\":\"\"}}}],\"scatterternary\":[{\"type\":\"scatterternary\",\"marker\":{\"colorbar\":{\"outlinewidth\":0,\"ticks\":\"\"}}}],\"scattercarpet\":[{\"type\":\"scattercarpet\",\"marker\":{\"colorbar\":{\"outlinewidth\":0,\"ticks\":\"\"}}}],\"carpet\":[{\"aaxis\":{\"endlinecolor\":\"#2a3f5f\",\"gridcolor\":\"white\",\"linecolor\":\"white\",\"minorgridcolor\":\"white\",\"startlinecolor\":\"#2a3f5f\"},\"baxis\":{\"endlinecolor\":\"#2a3f5f\",\"gridcolor\":\"white\",\"linecolor\":\"white\",\"minorgridcolor\":\"white\",\"startlinecolor\":\"#2a3f5f\"},\"type\":\"carpet\"}],\"table\":[{\"cells\":{\"fill\":{\"color\":\"#EBF0F8\"},\"line\":{\"color\":\"white\"}},\"header\":{\"fill\":{\"color\":\"#C8D4E3\"},\"line\":{\"color\":\"white\"}},\"type\":\"table\"}],\"barpolar\":[{\"marker\":{\"line\":{\"color\":\"#E5ECF6\",\"width\":0.5},\"pattern\":{\"fillmode\":\"overlay\",\"size\":10,\"solidity\":0.2}},\"type\":\"barpolar\"}],\"pie\":[{\"automargin\":true,\"type\":\"pie\"}]},\"layout\":{\"autotypenumbers\":\"strict\",\"colorway\":[\"#636efa\",\"#EF553B\",\"#00cc96\",\"#ab63fa\",\"#FFA15A\",\"#19d3f3\",\"#FF6692\",\"#B6E880\",\"#FF97FF\",\"#FECB52\"],\"font\":{\"color\":\"#2a3f5f\"},\"hovermode\":\"closest\",\"hoverlabel\":{\"align\":\"left\"},\"paper_bgcolor\":\"white\",\"plot_bgcolor\":\"#E5ECF6\",\"polar\":{\"bgcolor\":\"#E5ECF6\",\"angularaxis\":{\"gridcolor\":\"white\",\"linecolor\":\"white\",\"ticks\":\"\"},\"radialaxis\":{\"gridcolor\":\"white\",\"linecolor\":\"white\",\"ticks\":\"\"}},\"ternary\":{\"bgcolor\":\"#E5ECF6\",\"aaxis\":{\"gridcolor\":\"white\",\"linecolor\":\"white\",\"ticks\":\"\"},\"baxis\":{\"gridcolor\":\"white\",\"linecolor\":\"white\",\"ticks\":\"\"},\"caxis\":{\"gridcolor\":\"white\",\"linecolor\":\"white\",\"ticks\":\"\"}},\"coloraxis\":{\"colorbar\":{\"outlinewidth\":0,\"ticks\":\"\"}},\"colorscale\":{\"sequential\":[[0.0,\"#0d0887\"],[0.1111111111111111,\"#46039f\"],[0.2222222222222222,\"#7201a8\"],[0.3333333333333333,\"#9c179e\"],[0.4444444444444444,\"#bd3786\"],[0.5555555555555556,\"#d8576b\"],[0.6666666666666666,\"#ed7953\"],[0.7777777777777778,\"#fb9f3a\"],[0.8888888888888888,\"#fdca26\"],[1.0,\"#f0f921\"]],\"sequentialminus\":[[0.0,\"#0d0887\"],[0.1111111111111111,\"#46039f\"],[0.2222222222222222,\"#7201a8\"],[0.3333333333333333,\"#9c179e\"],[0.4444444444444444,\"#bd3786\"],[0.5555555555555556,\"#d8576b\"],[0.6666666666666666,\"#ed7953\"],[0.7777777777777778,\"#fb9f3a\"],[0.8888888888888888,\"#fdca26\"],[1.0,\"#f0f921\"]],\"diverging\":[[0,\"#8e0152\"],[0.1,\"#c51b7d\"],[0.2,\"#de77ae\"],[0.3,\"#f1b6da\"],[0.4,\"#fde0ef\"],[0.5,\"#f7f7f7\"],[0.6,\"#e6f5d0\"],[0.7,\"#b8e186\"],[0.8,\"#7fbc41\"],[0.9,\"#4d9221\"],[1,\"#276419\"]]},\"xaxis\":{\"gridcolor\":\"white\",\"linecolor\":\"white\",\"ticks\":\"\",\"title\":{\"standoff\":15},\"zerolinecolor\":\"white\",\"automargin\":true,\"zerolinewidth\":2},\"yaxis\":{\"gridcolor\":\"white\",\"linecolor\":\"white\",\"ticks\":\"\",\"title\":{\"standoff\":15},\"zerolinecolor\":\"white\",\"automargin\":true,\"zerolinewidth\":2},\"scene\":{\"xaxis\":{\"backgroundcolor\":\"#E5ECF6\",\"gridcolor\":\"white\",\"linecolor\":\"white\",\"showbackground\":true,\"ticks\":\"\",\"zerolinecolor\":\"white\",\"gridwidth\":2},\"yaxis\":{\"backgroundcolor\":\"#E5ECF6\",\"gridcolor\":\"white\",\"linecolor\":\"white\",\"showbackground\":true,\"ticks\":\"\",\"zerolinecolor\":\"white\",\"gridwidth\":2},\"zaxis\":{\"backgroundcolor\":\"#E5ECF6\",\"gridcolor\":\"white\",\"linecolor\":\"white\",\"showbackground\":true,\"ticks\":\"\",\"zerolinecolor\":\"white\",\"gridwidth\":2}},\"shapedefaults\":{\"line\":{\"color\":\"#2a3f5f\"}},\"annotationdefaults\":{\"arrowcolor\":\"#2a3f5f\",\"arrowhead\":0,\"arrowwidth\":1},\"geo\":{\"bgcolor\":\"white\",\"landcolor\":\"#E5ECF6\",\"subunitcolor\":\"white\",\"showland\":true,\"showlakes\":true,\"lakecolor\":\"white\"},\"title\":{\"x\":0.05},\"mapbox\":{\"style\":\"light\"}}},\"shapes\":[{\"fillcolor\":\"lightgreen\",\"line\":{\"color\":\"RoyalBlue\"},\"opacity\":0.6,\"type\":\"rect\",\"x0\":0,\"x1\":50,\"y0\":0,\"y1\":1},{\"fillcolor\":\"lightgreen\",\"line\":{\"color\":\"RoyalBlue\"},\"opacity\":0.6,\"type\":\"rect\",\"x0\":12,\"x1\":23,\"y0\":4,\"y1\":6},{\"fillcolor\":\"lightgreen\",\"line\":{\"color\":\"RoyalBlue\"},\"opacity\":0.6,\"type\":\"rect\",\"x0\":12,\"x1\":23,\"y0\":7,\"y1\":9},{\"fillcolor\":\"lightgreen\",\"line\":{\"color\":\"RoyalBlue\"},\"opacity\":0.6,\"type\":\"rect\",\"x0\":12,\"x1\":23,\"y0\":10,\"y1\":12},{\"fillcolor\":\"lightgreen\",\"line\":{\"color\":\"RoyalBlue\"},\"opacity\":0.6,\"type\":\"rect\",\"x0\":27,\"x1\":38,\"y0\":4,\"y1\":6},{\"fillcolor\":\"lightgreen\",\"line\":{\"color\":\"RoyalBlue\"},\"opacity\":0.6,\"type\":\"rect\",\"x0\":27,\"x1\":38,\"y0\":7,\"y1\":9},{\"fillcolor\":\"lightgreen\",\"line\":{\"color\":\"RoyalBlue\"},\"opacity\":0.6,\"type\":\"rect\",\"x0\":27,\"x1\":38,\"y0\":10,\"y1\":12},{\"fillcolor\":\"lightgreen\",\"line\":{\"color\":\"RoyalBlue\"},\"opacity\":0.6,\"type\":\"rect\",\"x0\":12,\"x1\":19,\"y0\":14,\"y1\":16},{\"fillcolor\":\"lightgreen\",\"line\":{\"color\":\"RoyalBlue\"},\"opacity\":0.6,\"type\":\"rect\",\"x0\":12,\"x1\":19,\"y0\":18,\"y1\":20},{\"fillcolor\":\"lightgreen\",\"line\":{\"color\":\"RoyalBlue\"},\"opacity\":0.6,\"type\":\"rect\",\"x0\":12,\"x1\":19,\"y0\":22,\"y1\":24},{\"fillcolor\":\"lightgreen\",\"line\":{\"color\":\"RoyalBlue\"},\"opacity\":0.6,\"type\":\"rect\",\"x0\":21,\"x1\":29,\"y0\":14,\"y1\":16},{\"fillcolor\":\"lightgreen\",\"line\":{\"color\":\"RoyalBlue\"},\"opacity\":0.6,\"type\":\"rect\",\"x0\":21,\"x1\":29,\"y0\":18,\"y1\":20},{\"fillcolor\":\"lightgreen\",\"line\":{\"color\":\"RoyalBlue\"},\"opacity\":0.6,\"type\":\"rect\",\"x0\":21,\"x1\":29,\"y0\":22,\"y1\":24},{\"fillcolor\":\"lightgreen\",\"line\":{\"color\":\"RoyalBlue\"},\"opacity\":0.6,\"type\":\"rect\",\"x0\":31,\"x1\":38,\"y0\":14,\"y1\":16},{\"fillcolor\":\"lightgreen\",\"line\":{\"color\":\"RoyalBlue\"},\"opacity\":0.6,\"type\":\"rect\",\"x0\":31,\"x1\":38,\"y0\":18,\"y1\":20},{\"fillcolor\":\"lightgreen\",\"line\":{\"color\":\"RoyalBlue\"},\"opacity\":0.6,\"type\":\"rect\",\"x0\":31,\"x1\":38,\"y0\":22,\"y1\":24},{\"fillcolor\":\"lightgreen\",\"line\":{\"color\":\"RoyalBlue\"},\"opacity\":0.6,\"type\":\"rect\",\"x0\":0,\"x1\":1,\"y0\":3,\"y1\":7},{\"fillcolor\":\"lightgreen\",\"line\":{\"color\":\"RoyalBlue\"},\"opacity\":0.6,\"type\":\"rect\",\"x0\":2,\"x1\":4,\"y0\":3,\"y1\":7},{\"fillcolor\":\"lightgreen\",\"line\":{\"color\":\"RoyalBlue\"},\"opacity\":0.6,\"type\":\"rect\",\"x0\":5,\"x1\":7,\"y0\":3,\"y1\":7},{\"fillcolor\":\"lightgreen\",\"line\":{\"color\":\"RoyalBlue\"},\"opacity\":0.6,\"type\":\"rect\",\"x0\":8,\"x1\":10,\"y0\":3,\"y1\":7},{\"fillcolor\":\"lightgreen\",\"line\":{\"color\":\"RoyalBlue\"},\"opacity\":0.6,\"type\":\"rect\",\"x0\":40,\"x1\":42,\"y0\":3,\"y1\":7},{\"fillcolor\":\"lightgreen\",\"line\":{\"color\":\"RoyalBlue\"},\"opacity\":0.6,\"type\":\"rect\",\"x0\":43,\"x1\":45,\"y0\":3,\"y1\":7},{\"fillcolor\":\"lightgreen\",\"line\":{\"color\":\"RoyalBlue\"},\"opacity\":0.6,\"type\":\"rect\",\"x0\":46,\"x1\":48,\"y0\":3,\"y1\":7},{\"fillcolor\":\"lightgreen\",\"line\":{\"color\":\"RoyalBlue\"},\"opacity\":0.6,\"type\":\"rect\",\"x0\":49,\"x1\":50,\"y0\":3,\"y1\":7},{\"fillcolor\":\"lightgreen\",\"line\":{\"color\":\"RoyalBlue\"},\"opacity\":0.6,\"type\":\"rect\",\"x0\":0,\"x1\":1,\"y0\":8,\"y1\":16},{\"fillcolor\":\"lightgreen\",\"line\":{\"color\":\"RoyalBlue\"},\"opacity\":0.6,\"type\":\"rect\",\"x0\":2,\"x1\":4,\"y0\":8,\"y1\":16},{\"fillcolor\":\"lightgreen\",\"line\":{\"color\":\"RoyalBlue\"},\"opacity\":0.6,\"type\":\"rect\",\"x0\":5,\"x1\":7,\"y0\":8,\"y1\":16},{\"fillcolor\":\"lightgreen\",\"line\":{\"color\":\"RoyalBlue\"},\"opacity\":0.6,\"type\":\"rect\",\"x0\":8,\"x1\":10,\"y0\":8,\"y1\":16},{\"fillcolor\":\"lightgreen\",\"line\":{\"color\":\"RoyalBlue\"},\"opacity\":0.6,\"type\":\"rect\",\"x0\":40,\"x1\":42,\"y0\":8,\"y1\":16},{\"fillcolor\":\"lightgreen\",\"line\":{\"color\":\"RoyalBlue\"},\"opacity\":0.6,\"type\":\"rect\",\"x0\":43,\"x1\":45,\"y0\":8,\"y1\":16},{\"fillcolor\":\"lightgreen\",\"line\":{\"color\":\"RoyalBlue\"},\"opacity\":0.6,\"type\":\"rect\",\"x0\":46,\"x1\":48,\"y0\":8,\"y1\":16},{\"fillcolor\":\"lightgreen\",\"line\":{\"color\":\"RoyalBlue\"},\"opacity\":0.6,\"type\":\"rect\",\"x0\":49,\"x1\":50,\"y0\":8,\"y1\":16},{\"fillcolor\":\"lightgreen\",\"line\":{\"color\":\"RoyalBlue\"},\"opacity\":0.6,\"type\":\"rect\",\"x0\":0,\"x1\":1,\"y0\":17,\"y1\":25},{\"fillcolor\":\"lightgreen\",\"line\":{\"color\":\"RoyalBlue\"},\"opacity\":0.6,\"type\":\"rect\",\"x0\":2,\"x1\":4,\"y0\":17,\"y1\":25},{\"fillcolor\":\"lightgreen\",\"line\":{\"color\":\"RoyalBlue\"},\"opacity\":0.6,\"type\":\"rect\",\"x0\":5,\"x1\":7,\"y0\":17,\"y1\":25},{\"fillcolor\":\"lightgreen\",\"line\":{\"color\":\"RoyalBlue\"},\"opacity\":0.6,\"type\":\"rect\",\"x0\":8,\"x1\":10,\"y0\":17,\"y1\":25},{\"fillcolor\":\"lightgreen\",\"line\":{\"color\":\"RoyalBlue\"},\"opacity\":0.6,\"type\":\"rect\",\"x0\":40,\"x1\":42,\"y0\":17,\"y1\":25},{\"fillcolor\":\"lightgreen\",\"line\":{\"color\":\"RoyalBlue\"},\"opacity\":0.6,\"type\":\"rect\",\"x0\":43,\"x1\":45,\"y0\":17,\"y1\":25},{\"fillcolor\":\"lightgreen\",\"line\":{\"color\":\"RoyalBlue\"},\"opacity\":0.6,\"type\":\"rect\",\"x0\":46,\"x1\":48,\"y0\":17,\"y1\":25},{\"fillcolor\":\"lightgreen\",\"line\":{\"color\":\"RoyalBlue\"},\"opacity\":0.6,\"type\":\"rect\",\"x0\":49,\"x1\":50,\"y0\":17,\"y1\":25},{\"fillcolor\":\"lightgreen\",\"line\":{\"color\":\"RoyalBlue\"},\"opacity\":0.6,\"type\":\"rect\",\"x0\":0,\"x1\":1,\"y0\":27,\"y1\":35},{\"fillcolor\":\"lightgreen\",\"line\":{\"color\":\"RoyalBlue\"},\"opacity\":0.6,\"type\":\"rect\",\"x0\":3,\"x1\":5,\"y0\":27,\"y1\":35},{\"fillcolor\":\"lightgreen\",\"line\":{\"color\":\"RoyalBlue\"},\"opacity\":0.6,\"type\":\"rect\",\"x0\":7,\"x1\":9,\"y0\":27,\"y1\":35},{\"fillcolor\":\"lightgreen\",\"line\":{\"color\":\"RoyalBlue\"},\"opacity\":0.6,\"type\":\"rect\",\"x0\":11,\"x1\":13,\"y0\":27,\"y1\":35},{\"fillcolor\":\"lightgreen\",\"line\":{\"color\":\"RoyalBlue\"},\"opacity\":0.6,\"type\":\"rect\",\"x0\":15,\"x1\":17,\"y0\":27,\"y1\":35},{\"fillcolor\":\"lightgreen\",\"line\":{\"color\":\"RoyalBlue\"},\"opacity\":0.6,\"type\":\"rect\",\"x0\":19,\"x1\":21,\"y0\":27,\"y1\":35},{\"fillcolor\":\"lightgreen\",\"line\":{\"color\":\"RoyalBlue\"},\"opacity\":0.6,\"type\":\"rect\",\"x0\":29,\"x1\":31,\"y0\":27,\"y1\":35},{\"fillcolor\":\"lightgreen\",\"line\":{\"color\":\"RoyalBlue\"},\"opacity\":0.6,\"type\":\"rect\",\"x0\":33,\"x1\":35,\"y0\":27,\"y1\":35},{\"fillcolor\":\"lightgreen\",\"line\":{\"color\":\"RoyalBlue\"},\"opacity\":0.6,\"type\":\"rect\",\"x0\":37,\"x1\":39,\"y0\":27,\"y1\":35},{\"fillcolor\":\"lightgreen\",\"line\":{\"color\":\"RoyalBlue\"},\"opacity\":0.6,\"type\":\"rect\",\"x0\":41,\"x1\":43,\"y0\":27,\"y1\":35},{\"fillcolor\":\"lightgreen\",\"line\":{\"color\":\"RoyalBlue\"},\"opacity\":0.6,\"type\":\"rect\",\"x0\":45,\"x1\":47,\"y0\":27,\"y1\":35},{\"fillcolor\":\"lightgreen\",\"line\":{\"color\":\"RoyalBlue\"},\"opacity\":0.6,\"type\":\"rect\",\"x0\":49,\"x1\":50,\"y0\":27,\"y1\":35},{\"fillcolor\":\"lightgreen\",\"line\":{\"color\":\"RoyalBlue\"},\"opacity\":0.6,\"type\":\"rect\",\"x0\":0,\"x1\":1,\"y0\":37,\"y1\":45},{\"fillcolor\":\"lightgreen\",\"line\":{\"color\":\"RoyalBlue\"},\"opacity\":0.6,\"type\":\"rect\",\"x0\":3,\"x1\":5,\"y0\":37,\"y1\":45},{\"fillcolor\":\"lightgreen\",\"line\":{\"color\":\"RoyalBlue\"},\"opacity\":0.6,\"type\":\"rect\",\"x0\":7,\"x1\":9,\"y0\":37,\"y1\":45},{\"fillcolor\":\"lightgreen\",\"line\":{\"color\":\"RoyalBlue\"},\"opacity\":0.6,\"type\":\"rect\",\"x0\":11,\"x1\":13,\"y0\":37,\"y1\":45},{\"fillcolor\":\"lightgreen\",\"line\":{\"color\":\"RoyalBlue\"},\"opacity\":0.6,\"type\":\"rect\",\"x0\":15,\"x1\":17,\"y0\":37,\"y1\":45},{\"fillcolor\":\"lightgreen\",\"line\":{\"color\":\"RoyalBlue\"},\"opacity\":0.6,\"type\":\"rect\",\"x0\":19,\"x1\":21,\"y0\":37,\"y1\":45},{\"fillcolor\":\"lightgreen\",\"line\":{\"color\":\"RoyalBlue\"},\"opacity\":0.6,\"type\":\"rect\",\"x0\":29,\"x1\":31,\"y0\":37,\"y1\":45},{\"fillcolor\":\"lightgreen\",\"line\":{\"color\":\"RoyalBlue\"},\"opacity\":0.6,\"type\":\"rect\",\"x0\":33,\"x1\":35,\"y0\":37,\"y1\":45},{\"fillcolor\":\"lightgreen\",\"line\":{\"color\":\"RoyalBlue\"},\"opacity\":0.6,\"type\":\"rect\",\"x0\":37,\"x1\":39,\"y0\":37,\"y1\":45},{\"fillcolor\":\"lightgreen\",\"line\":{\"color\":\"RoyalBlue\"},\"opacity\":0.6,\"type\":\"rect\",\"x0\":41,\"x1\":43,\"y0\":37,\"y1\":45},{\"fillcolor\":\"lightgreen\",\"line\":{\"color\":\"RoyalBlue\"},\"opacity\":0.6,\"type\":\"rect\",\"x0\":45,\"x1\":47,\"y0\":37,\"y1\":45},{\"fillcolor\":\"lightgreen\",\"line\":{\"color\":\"RoyalBlue\"},\"opacity\":0.6,\"type\":\"rect\",\"x0\":49,\"x1\":50,\"y0\":37,\"y1\":45}],\"xaxis\":{\"range\":[0,50],\"dtick\":5,\"showgrid\":true},\"yaxis\":{\"range\":[50,0],\"dtick\":5,\"showgrid\":true},\"title\":{\"text\":\"倉庫レイアウト\"},\"height\":600,\"width\":600,\"showlegend\":false},                        {\"responsive\": true}                    ).then(function(){\n",
       "                            \n",
       "var gd = document.getElementById('5989a77b-e928-41e0-a5a0-a02aa81ed500');\n",
       "var x = new MutationObserver(function (mutations, observer) {{\n",
       "        var display = window.getComputedStyle(gd).display;\n",
       "        if (!display || display === 'none') {{\n",
       "            console.log([gd, 'removed!']);\n",
       "            Plotly.purge(gd);\n",
       "            observer.disconnect();\n",
       "        }}\n",
       "}});\n",
       "\n",
       "// Listen for the removal of the full notebook cells\n",
       "var notebookContainer = gd.closest('#notebook-container');\n",
       "if (notebookContainer) {{\n",
       "    x.observe(notebookContainer, {childList: true});\n",
       "}}\n",
       "\n",
       "// Listen for the clearing of the current output cell\n",
       "var outputEl = gd.closest('.output');\n",
       "if (outputEl) {{\n",
       "    x.observe(outputEl, {childList: true});\n",
       "}}\n",
       "\n",
       "                        })                };                });            </script>        </div>"
      ]
     },
     "metadata": {},
     "output_type": "display_data"
    }
   ],
   "source": [
    "import plotly.graph_objects as go\n",
    "\n",
    "# Define the color map based on pick_direction\n",
    "color_map = {\n",
    "    \"vertical\": \"lightgreen\",\n",
    "    \"horizontal\": \"lightcoral\"\n",
    "}\n",
    "\n",
    "# Create figure\n",
    "fig = go.Figure()\n",
    "\n",
    "# Add rectangles for each rack\n",
    "for rack in racks:\n",
    "    fig.add_shape(\n",
    "        type=\"rect\",\n",
    "        x0=rack['pos'][1],\n",
    "        y0=rack['pos'][0],\n",
    "        x1=rack['pos'][1] + rack['width'],\n",
    "        y1=rack['pos'][0] + rack['height'],\n",
    "        line=dict(color=\"RoyalBlue\"),\n",
    "        #fillcolor=color_map[rack['pick_direction']],\n",
    "        fillcolor=\"lightgreen\",\n",
    "        opacity=0.6,\n",
    "    )\n",
    "    # Add scatter trace for hover data\n",
    "    fig.add_trace(\n",
    "        go.Scatter(\n",
    "            x=[rack['pos'][1] + rack['width']/2],\n",
    "            y=[rack['pos'][0] + rack['height']/2],\n",
    "            text=f\"Rack ID: {rack['rack_id']} <br>Position: ({rack['pos'][1]}, {rack['pos'][0]})<br>Size: {rack['width']}x{rack['height']}\",\n",
    "            mode=\"markers\",\n",
    "            marker=dict(size=2, color=\"rgba(0,0,0,0)\"),\n",
    "            hoverinfo=\"text\",\n",
    "            showlegend=False  # Add this line to hide the trace numbers\n",
    "        )\n",
    "    )\n",
    "\n",
    "# Set axes properties and reverse y-axis\n",
    "fig.update_xaxes(range=[0, map_width], dtick=5)\n",
    "fig.update_yaxes(range=[map_height, 0], dtick=5)  # Reversed y-axis\n",
    "\n",
    "# Add grid and title\n",
    "fig.update_layout(\n",
    "    title=\"倉庫レイアウト\",\n",
    "    xaxis=dict(showgrid=True),\n",
    "    yaxis=dict(showgrid=True),\n",
    "    height=600,\n",
    "    width=600,\n",
    "    showlegend=False  # Add this line to hide the legend\n",
    ")\n",
    "\n",
    "# Show figure\n",
    "fig.show()\n",
    "\n",
    "# Save the figure as an HTML file\n",
    "fig.write_html(\"rack_layout.html\")\n"
   ]
  },
  {
   "cell_type": "code",
   "execution_count": null,
   "id": "3cc01e45-c1d5-4266-be04-8f8074fc2a16",
   "metadata": {},
   "outputs": [],
   "source": []
  }
 ],
 "metadata": {
  "kernelspec": {
   "display_name": "py3.10",
   "language": "python",
   "name": "py3.10"
  },
  "language_info": {
   "codemirror_mode": {
    "name": "ipython",
    "version": 3
   },
   "file_extension": ".py",
   "mimetype": "text/x-python",
   "name": "python",
   "nbconvert_exporter": "python",
   "pygments_lexer": "ipython3",
   "version": "3.10.14"
  }
 },
 "nbformat": 4,
 "nbformat_minor": 5
}
